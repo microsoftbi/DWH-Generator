{
    "metadata": {
        "kernelspec": {
            "name": "SQL",
            "display_name": "SQL",
            "language": "sql"
        },
        "language_info": {
            "name": "sql",
            "version": ""
        }
    },
    "nbformat_minor": 2,
    "nbformat": 4,
    "cells": [
        {
            "cell_type": "markdown",
            "source": [
                "Load some testing data into STG table."
            ],
            "metadata": {
                "azdata_cell_guid": "14279dcf-4b37-49c4-8de0-9ffeaa3e0a5d"
            }
        },
        {
            "cell_type": "code",
            "source": [
                "TRUNCATE TABLE STAGE.GS.GAMELIST\r\n",
                "\r\n",
                "INSERT INTO STAGE.GS.GAMELIST\r\n",
                "SELECT 1, '2019-01-01','STAGE.GS.GAMELIST', '2019-01-01', 'GS', 1, 'GTA1', 'JAPAN', 150, 1, 'Tim'\r\n",
                "UNION ALL\r\n",
                "SELECT 2, '2019-01-01','STAGE.GS.GAMELIST', '2019-01-01', 'GS', 2, 'GTA1', 'JAPAN', 150, 1, 'Tim'\r\n",
                "UNION ALL\r\n",
                "SELECT 3, '2019-01-01','STAGE.GS.GAMELIST', '2019-01-01', 'GS', 3, 'GTA1', 'JAPAN', 150, 1, 'Tim'\r\n",
                "UNION ALL\r\n",
                "SELECT 4, '2019-01-01','STAGE.GS.GAMELIST', '2019-01-01', 'GS', 4, 'GTA1', 'JAPAN', 150, 1, 'Tim'\r\n",
                "UNION ALL\r\n",
                "SELECT 5, '2019-01-01','STAGE.GS.GAMELIST', '2019-01-01', 'GS', 5, 'GTA1', 'JAPAN', 150, 1, 'Tim'\r\n",
                "\r\n",
                "SELECT * FROM STAGE.GS.GAMELIST"
            ],
            "metadata": {
                "azdata_cell_guid": "6d66148f-fc9a-4ded-83d9-dcafc8d28cc2"
            },
            "outputs": [
                {
                    "output_type": "display_data",
                    "data": {
                        "text/html": "(5 rows affected)"
                    },
                    "metadata": {}
                },
                {
                    "output_type": "display_data",
                    "data": {
                        "text/html": "(5 rows affected)"
                    },
                    "metadata": {}
                },
                {
                    "output_type": "display_data",
                    "data": {
                        "text/html": "Total execution time: 00:00:00.136"
                    },
                    "metadata": {}
                },
                {
                    "output_type": "execute_result",
                    "metadata": {},
                    "execution_count": 1,
                    "data": {
                        "application/vnd.dataresource+json": {
                            "schema": {
                                "fields": [
                                    {
                                        "name": "SEQUENCE_NO"
                                    },
                                    {
                                        "name": "SESSION_DTS"
                                    },
                                    {
                                        "name": "Fully_Qualified_File_Name"
                                    },
                                    {
                                        "name": "FILE_TRANSFER_DTS"
                                    },
                                    {
                                        "name": "REC_SRC"
                                    },
                                    {
                                        "name": "ID"
                                    },
                                    {
                                        "name": "Game name"
                                    },
                                    {
                                        "name": "AREA"
                                    },
                                    {
                                        "name": "PRICE"
                                    },
                                    {
                                        "name": "FLAG01"
                                    },
                                    {
                                        "name": "Operator"
                                    }
                                ]
                            },
                            "data": [
                                {
                                    "0": "1",
                                    "1": "2019-01-01 00:00:00.0000000 +00:00",
                                    "2": "STAGE.GS.GAMELIST",
                                    "3": "2019-01-01 00:00:00.0000000 +00:00",
                                    "4": "GS",
                                    "5": "1",
                                    "6": "GTA1",
                                    "7": "JAPAN",
                                    "8": "150.00",
                                    "9": "1",
                                    "10": "Tim"
                                },
                                {
                                    "0": "2",
                                    "1": "2019-01-01 00:00:00.0000000 +00:00",
                                    "2": "STAGE.GS.GAMELIST",
                                    "3": "2019-01-01 00:00:00.0000000 +00:00",
                                    "4": "GS",
                                    "5": "2",
                                    "6": "GTA1",
                                    "7": "JAPAN",
                                    "8": "150.00",
                                    "9": "1",
                                    "10": "Tim"
                                },
                                {
                                    "0": "3",
                                    "1": "2019-01-01 00:00:00.0000000 +00:00",
                                    "2": "STAGE.GS.GAMELIST",
                                    "3": "2019-01-01 00:00:00.0000000 +00:00",
                                    "4": "GS",
                                    "5": "3",
                                    "6": "GTA1",
                                    "7": "JAPAN",
                                    "8": "150.00",
                                    "9": "1",
                                    "10": "Tim"
                                },
                                {
                                    "0": "4",
                                    "1": "2019-01-01 00:00:00.0000000 +00:00",
                                    "2": "STAGE.GS.GAMELIST",
                                    "3": "2019-01-01 00:00:00.0000000 +00:00",
                                    "4": "GS",
                                    "5": "4",
                                    "6": "GTA1",
                                    "7": "JAPAN",
                                    "8": "150.00",
                                    "9": "1",
                                    "10": "Tim"
                                },
                                {
                                    "0": "5",
                                    "1": "2019-01-01 00:00:00.0000000 +00:00",
                                    "2": "STAGE.GS.GAMELIST",
                                    "3": "2019-01-01 00:00:00.0000000 +00:00",
                                    "4": "GS",
                                    "5": "5",
                                    "6": "GTA1",
                                    "7": "JAPAN",
                                    "8": "150.00",
                                    "9": "1",
                                    "10": "Tim"
                                }
                            ]
                        },
                        "text/html": "<table><tr><th>SEQUENCE_NO</th><th>SESSION_DTS</th><th>Fully_Qualified_File_Name</th><th>FILE_TRANSFER_DTS</th><th>REC_SRC</th><th>ID</th><th>Game name</th><th>AREA</th><th>PRICE</th><th>FLAG01</th><th>Operator</th></tr><tr><td>1</td><td>2019-01-01 00:00:00.0000000 +00:00</td><td>STAGE.GS.GAMELIST</td><td>2019-01-01 00:00:00.0000000 +00:00</td><td>GS</td><td>1</td><td>GTA1</td><td>JAPAN</td><td>150.00</td><td>1</td><td>Tim</td></tr><tr><td>2</td><td>2019-01-01 00:00:00.0000000 +00:00</td><td>STAGE.GS.GAMELIST</td><td>2019-01-01 00:00:00.0000000 +00:00</td><td>GS</td><td>2</td><td>GTA1</td><td>JAPAN</td><td>150.00</td><td>1</td><td>Tim</td></tr><tr><td>3</td><td>2019-01-01 00:00:00.0000000 +00:00</td><td>STAGE.GS.GAMELIST</td><td>2019-01-01 00:00:00.0000000 +00:00</td><td>GS</td><td>3</td><td>GTA1</td><td>JAPAN</td><td>150.00</td><td>1</td><td>Tim</td></tr><tr><td>4</td><td>2019-01-01 00:00:00.0000000 +00:00</td><td>STAGE.GS.GAMELIST</td><td>2019-01-01 00:00:00.0000000 +00:00</td><td>GS</td><td>4</td><td>GTA1</td><td>JAPAN</td><td>150.00</td><td>1</td><td>Tim</td></tr><tr><td>5</td><td>2019-01-01 00:00:00.0000000 +00:00</td><td>STAGE.GS.GAMELIST</td><td>2019-01-01 00:00:00.0000000 +00:00</td><td>GS</td><td>5</td><td>GTA1</td><td>JAPAN</td><td>150.00</td><td>1</td><td>Tim</td></tr></table>"
                    }
                }
            ],
            "execution_count": 1
        },
        {
            "cell_type": "code",
            "source": [
                "SELECT * FROM STAGE.GS.V_GAMELIST_MTA"
            ],
            "metadata": {
                "azdata_cell_guid": "507a5207-acf9-4857-8b12-17771ddf5421"
            },
            "outputs": [
                {
                    "output_type": "display_data",
                    "data": {
                        "text/html": "(5 rows affected)"
                    },
                    "metadata": {}
                },
                {
                    "output_type": "display_data",
                    "data": {
                        "text/html": "Total execution time: 00:00:00.036"
                    },
                    "metadata": {}
                },
                {
                    "output_type": "execute_result",
                    "metadata": {},
                    "execution_count": 3,
                    "data": {
                        "application/vnd.dataresource+json": {
                            "schema": {
                                "fields": [
                                    {
                                        "name": "LOAD_DTS"
                                    },
                                    {
                                        "name": "LOAD_DTS_BATCH"
                                    },
                                    {
                                        "name": "SEQUENCE_NO"
                                    },
                                    {
                                        "name": "CDC_OPERATION_CODE"
                                    },
                                    {
                                        "name": "REC_SRC"
                                    },
                                    {
                                        "name": "FULLY_QUALIFIED_FILE_NAME"
                                    },
                                    {
                                        "name": "INSERT_DTS"
                                    },
                                    {
                                        "name": "UPDATE_DTS"
                                    },
                                    {
                                        "name": "EXPORT_DTS"
                                    },
                                    {
                                        "name": "FILE_TRANSFER_DTS"
                                    },
                                    {
                                        "name": "SESSION_DTS"
                                    },
                                    {
                                        "name": "SOURCE_SLICE_DTS"
                                    },
                                    {
                                        "name": "LOAD_TYPE"
                                    },
                                    {
                                        "name": "HK"
                                    },
                                    {
                                        "name": "HD"
                                    },
                                    {
                                        "name": "HF"
                                    },
                                    {
                                        "name": "ID"
                                    },
                                    {
                                        "name": "Game name"
                                    },
                                    {
                                        "name": "AREA"
                                    },
                                    {
                                        "name": "PRICE"
                                    },
                                    {
                                        "name": "FLAG01"
                                    },
                                    {
                                        "name": "Operator"
                                    }
                                ]
                            },
                            "data": [
                                {
                                    "0": "NULL",
                                    "1": "2019-01-01 00:00:00.0000000 +08:00",
                                    "2": "1",
                                    "3": "NULL",
                                    "4": "GS",
                                    "5": "STAGE.GS.GAMELIST",
                                    "6": "NULL",
                                    "7": "NULL",
                                    "8": "NULL",
                                    "9": "2019-01-01 00:00:00.0000000 +00:00",
                                    "10": "2019-01-01 00:00:00.0000000 +00:00",
                                    "11": "NULL",
                                    "12": "FULL",
                                    "13": "39D1743976C9CA178083EFDC0BF56FDB",
                                    "14": "DC97602BEEBBA655B3C2007523F776D3",
                                    "15": "1D7A794BF4E8E5C8E83263267A0BB5CF",
                                    "16": "1",
                                    "17": "GTA1",
                                    "18": "JAPAN",
                                    "19": "150.00",
                                    "20": "1",
                                    "21": "Tim"
                                },
                                {
                                    "0": "NULL",
                                    "1": "2019-01-01 00:00:00.0000000 +08:00",
                                    "2": "2",
                                    "3": "NULL",
                                    "4": "GS",
                                    "5": "STAGE.GS.GAMELIST",
                                    "6": "NULL",
                                    "7": "NULL",
                                    "8": "NULL",
                                    "9": "2019-01-01 00:00:00.0000000 +00:00",
                                    "10": "2019-01-01 00:00:00.0000000 +00:00",
                                    "11": "NULL",
                                    "12": "FULL",
                                    "13": "1CAB7228C79848C5D982B409CCBED23C",
                                    "14": "DC97602BEEBBA655B3C2007523F776D3",
                                    "15": "EAE3B1B4B4A60C8DB565E69351B55284",
                                    "16": "2",
                                    "17": "GTA1",
                                    "18": "JAPAN",
                                    "19": "150.00",
                                    "20": "1",
                                    "21": "Tim"
                                },
                                {
                                    "0": "NULL",
                                    "1": "2019-01-01 00:00:00.0000000 +08:00",
                                    "2": "3",
                                    "3": "NULL",
                                    "4": "GS",
                                    "5": "STAGE.GS.GAMELIST",
                                    "6": "NULL",
                                    "7": "NULL",
                                    "8": "NULL",
                                    "9": "2019-01-01 00:00:00.0000000 +00:00",
                                    "10": "2019-01-01 00:00:00.0000000 +00:00",
                                    "11": "NULL",
                                    "12": "FULL",
                                    "13": "ED87939E6CE3FE8E1D9B0CD917687B1A",
                                    "14": "DC97602BEEBBA655B3C2007523F776D3",
                                    "15": "163C48A3B082E630EC6AA253B87815C5",
                                    "16": "3",
                                    "17": "GTA1",
                                    "18": "JAPAN",
                                    "19": "150.00",
                                    "20": "1",
                                    "21": "Tim"
                                },
                                {
                                    "0": "NULL",
                                    "1": "2019-01-01 00:00:00.0000000 +08:00",
                                    "2": "4",
                                    "3": "NULL",
                                    "4": "GS",
                                    "5": "STAGE.GS.GAMELIST",
                                    "6": "NULL",
                                    "7": "NULL",
                                    "8": "NULL",
                                    "9": "2019-01-01 00:00:00.0000000 +00:00",
                                    "10": "2019-01-01 00:00:00.0000000 +00:00",
                                    "11": "NULL",
                                    "12": "FULL",
                                    "13": "6556E720C7F287A5AF1DE21E10D5FC45",
                                    "14": "DC97602BEEBBA655B3C2007523F776D3",
                                    "15": "6CACA286BAF832719164F38655C23EE9",
                                    "16": "4",
                                    "17": "GTA1",
                                    "18": "JAPAN",
                                    "19": "150.00",
                                    "20": "1",
                                    "21": "Tim"
                                },
                                {
                                    "0": "NULL",
                                    "1": "2019-01-01 00:00:00.0000000 +08:00",
                                    "2": "5",
                                    "3": "NULL",
                                    "4": "GS",
                                    "5": "STAGE.GS.GAMELIST",
                                    "6": "NULL",
                                    "7": "NULL",
                                    "8": "NULL",
                                    "9": "2019-01-01 00:00:00.0000000 +00:00",
                                    "10": "2019-01-01 00:00:00.0000000 +00:00",
                                    "11": "NULL",
                                    "12": "FULL",
                                    "13": "C3DD2E6A1FAF2FD229C3DEF59A350CC3",
                                    "14": "DC97602BEEBBA655B3C2007523F776D3",
                                    "15": "D4114BD08502A28602996E236B659DC7",
                                    "16": "5",
                                    "17": "GTA1",
                                    "18": "JAPAN",
                                    "19": "150.00",
                                    "20": "1",
                                    "21": "Tim"
                                }
                            ]
                        },
                        "text/html": "<table><tr><th>LOAD_DTS</th><th>LOAD_DTS_BATCH</th><th>SEQUENCE_NO</th><th>CDC_OPERATION_CODE</th><th>REC_SRC</th><th>FULLY_QUALIFIED_FILE_NAME</th><th>INSERT_DTS</th><th>UPDATE_DTS</th><th>EXPORT_DTS</th><th>FILE_TRANSFER_DTS</th><th>SESSION_DTS</th><th>SOURCE_SLICE_DTS</th><th>LOAD_TYPE</th><th>HK</th><th>HD</th><th>HF</th><th>ID</th><th>Game name</th><th>AREA</th><th>PRICE</th><th>FLAG01</th><th>Operator</th></tr><tr><td>NULL</td><td>2019-01-01 00:00:00.0000000 +08:00</td><td>1</td><td>NULL</td><td>GS</td><td>STAGE.GS.GAMELIST</td><td>NULL</td><td>NULL</td><td>NULL</td><td>2019-01-01 00:00:00.0000000 +00:00</td><td>2019-01-01 00:00:00.0000000 +00:00</td><td>NULL</td><td>FULL</td><td>39D1743976C9CA178083EFDC0BF56FDB</td><td>DC97602BEEBBA655B3C2007523F776D3</td><td>1D7A794BF4E8E5C8E83263267A0BB5CF</td><td>1</td><td>GTA1</td><td>JAPAN</td><td>150.00</td><td>1</td><td>Tim</td></tr><tr><td>NULL</td><td>2019-01-01 00:00:00.0000000 +08:00</td><td>2</td><td>NULL</td><td>GS</td><td>STAGE.GS.GAMELIST</td><td>NULL</td><td>NULL</td><td>NULL</td><td>2019-01-01 00:00:00.0000000 +00:00</td><td>2019-01-01 00:00:00.0000000 +00:00</td><td>NULL</td><td>FULL</td><td>1CAB7228C79848C5D982B409CCBED23C</td><td>DC97602BEEBBA655B3C2007523F776D3</td><td>EAE3B1B4B4A60C8DB565E69351B55284</td><td>2</td><td>GTA1</td><td>JAPAN</td><td>150.00</td><td>1</td><td>Tim</td></tr><tr><td>NULL</td><td>2019-01-01 00:00:00.0000000 +08:00</td><td>3</td><td>NULL</td><td>GS</td><td>STAGE.GS.GAMELIST</td><td>NULL</td><td>NULL</td><td>NULL</td><td>2019-01-01 00:00:00.0000000 +00:00</td><td>2019-01-01 00:00:00.0000000 +00:00</td><td>NULL</td><td>FULL</td><td>ED87939E6CE3FE8E1D9B0CD917687B1A</td><td>DC97602BEEBBA655B3C2007523F776D3</td><td>163C48A3B082E630EC6AA253B87815C5</td><td>3</td><td>GTA1</td><td>JAPAN</td><td>150.00</td><td>1</td><td>Tim</td></tr><tr><td>NULL</td><td>2019-01-01 00:00:00.0000000 +08:00</td><td>4</td><td>NULL</td><td>GS</td><td>STAGE.GS.GAMELIST</td><td>NULL</td><td>NULL</td><td>NULL</td><td>2019-01-01 00:00:00.0000000 +00:00</td><td>2019-01-01 00:00:00.0000000 +00:00</td><td>NULL</td><td>FULL</td><td>6556E720C7F287A5AF1DE21E10D5FC45</td><td>DC97602BEEBBA655B3C2007523F776D3</td><td>6CACA286BAF832719164F38655C23EE9</td><td>4</td><td>GTA1</td><td>JAPAN</td><td>150.00</td><td>1</td><td>Tim</td></tr><tr><td>NULL</td><td>2019-01-01 00:00:00.0000000 +08:00</td><td>5</td><td>NULL</td><td>GS</td><td>STAGE.GS.GAMELIST</td><td>NULL</td><td>NULL</td><td>NULL</td><td>2019-01-01 00:00:00.0000000 +00:00</td><td>2019-01-01 00:00:00.0000000 +00:00</td><td>NULL</td><td>FULL</td><td>C3DD2E6A1FAF2FD229C3DEF59A350CC3</td><td>DC97602BEEBBA655B3C2007523F776D3</td><td>D4114BD08502A28602996E236B659DC7</td><td>5</td><td>GTA1</td><td>JAPAN</td><td>150.00</td><td>1</td><td>Tim</td></tr></table>"
                    }
                }
            ],
            "execution_count": 3
        },
        {
            "cell_type": "code",
            "source": [
                "EXEC STAGE.gs.USP_GAMELIST_CDC"
            ],
            "metadata": {
                "azdata_cell_guid": "e5c2cae4-a955-4da4-a867-a29f8a6ac4c3"
            },
            "outputs": [],
            "execution_count": 0
        },
        {
            "cell_type": "code",
            "source": [
                "SELECT * FROM STAGE.gs.GAMELIST_CDC"
            ],
            "metadata": {
                "azdata_cell_guid": "7acd6fd6-7897-4b2a-8c80-f398c0308152"
            },
            "outputs": [
                {
                    "output_type": "display_data",
                    "data": {
                        "text/html": "(5 rows affected)"
                    },
                    "metadata": {}
                },
                {
                    "output_type": "display_data",
                    "data": {
                        "text/html": "Total execution time: 00:00:00.034"
                    },
                    "metadata": {}
                },
                {
                    "output_type": "execute_result",
                    "metadata": {},
                    "execution_count": 4,
                    "data": {
                        "application/vnd.dataresource+json": {
                            "schema": {
                                "fields": [
                                    {
                                        "name": "LOAD_DTS"
                                    },
                                    {
                                        "name": "LOAD_DTS_BATCH"
                                    },
                                    {
                                        "name": "SEQUENCE_NO"
                                    },
                                    {
                                        "name": "CDC_OPERATION_CODE"
                                    },
                                    {
                                        "name": "RECORD_SOURCE"
                                    },
                                    {
                                        "name": "FULLY_QUALIFIED_FILE_NAME"
                                    },
                                    {
                                        "name": "INSERT_DTS"
                                    },
                                    {
                                        "name": "UPDATE_DTS"
                                    },
                                    {
                                        "name": "EXPORT_DTS"
                                    },
                                    {
                                        "name": "FILE_TRANSFER_DTS"
                                    },
                                    {
                                        "name": "SESSION_DTS"
                                    },
                                    {
                                        "name": "SOURCE_SLICE_DTS"
                                    },
                                    {
                                        "name": "LOAD_TYPE"
                                    },
                                    {
                                        "name": "HK"
                                    },
                                    {
                                        "name": "HD"
                                    },
                                    {
                                        "name": "HF"
                                    },
                                    {
                                        "name": "ID"
                                    },
                                    {
                                        "name": "Game name"
                                    },
                                    {
                                        "name": "AREA"
                                    },
                                    {
                                        "name": "PRICE"
                                    },
                                    {
                                        "name": "FLAG01"
                                    },
                                    {
                                        "name": "Operator"
                                    }
                                ]
                            },
                            "data": [
                                {
                                    "0": "2019-01-01 00:00:00.0000002 +08:00",
                                    "1": "2019-01-01 00:00:00.0000000 +08:00",
                                    "2": "2",
                                    "3": "I",
                                    "4": "GS",
                                    "5": "STAGE.GS.GAMELIST",
                                    "6": "NULL",
                                    "7": "NULL",
                                    "8": "NULL",
                                    "9": "2019-01-01 00:00:00.0000000 +00:00",
                                    "10": "2019-01-01 00:00:00.0000000 +00:00",
                                    "11": "NULL",
                                    "12": "FULL",
                                    "13": "1CAB7228C79848C5D982B409CCBED23C",
                                    "14": "DC97602BEEBBA655B3C2007523F776D3",
                                    "15": "EAE3B1B4B4A60C8DB565E69351B55284",
                                    "16": "2",
                                    "17": "GTA1",
                                    "18": "JAPAN",
                                    "19": "150.00",
                                    "20": "1",
                                    "21": "Tim"
                                },
                                {
                                    "0": "2019-01-01 00:00:00.0000001 +08:00",
                                    "1": "2019-01-01 00:00:00.0000000 +08:00",
                                    "2": "1",
                                    "3": "I",
                                    "4": "GS",
                                    "5": "STAGE.GS.GAMELIST",
                                    "6": "NULL",
                                    "7": "NULL",
                                    "8": "NULL",
                                    "9": "2019-01-01 00:00:00.0000000 +00:00",
                                    "10": "2019-01-01 00:00:00.0000000 +00:00",
                                    "11": "NULL",
                                    "12": "FULL",
                                    "13": "39D1743976C9CA178083EFDC0BF56FDB",
                                    "14": "DC97602BEEBBA655B3C2007523F776D3",
                                    "15": "1D7A794BF4E8E5C8E83263267A0BB5CF",
                                    "16": "1",
                                    "17": "GTA1",
                                    "18": "JAPAN",
                                    "19": "150.00",
                                    "20": "1",
                                    "21": "Tim"
                                },
                                {
                                    "0": "2019-01-01 00:00:00.0000004 +08:00",
                                    "1": "2019-01-01 00:00:00.0000000 +08:00",
                                    "2": "4",
                                    "3": "I",
                                    "4": "GS",
                                    "5": "STAGE.GS.GAMELIST",
                                    "6": "NULL",
                                    "7": "NULL",
                                    "8": "NULL",
                                    "9": "2019-01-01 00:00:00.0000000 +00:00",
                                    "10": "2019-01-01 00:00:00.0000000 +00:00",
                                    "11": "NULL",
                                    "12": "FULL",
                                    "13": "6556E720C7F287A5AF1DE21E10D5FC45",
                                    "14": "DC97602BEEBBA655B3C2007523F776D3",
                                    "15": "6CACA286BAF832719164F38655C23EE9",
                                    "16": "4",
                                    "17": "GTA1",
                                    "18": "JAPAN",
                                    "19": "150.00",
                                    "20": "1",
                                    "21": "Tim"
                                },
                                {
                                    "0": "2019-01-01 00:00:00.0000005 +08:00",
                                    "1": "2019-01-01 00:00:00.0000000 +08:00",
                                    "2": "5",
                                    "3": "I",
                                    "4": "GS",
                                    "5": "STAGE.GS.GAMELIST",
                                    "6": "NULL",
                                    "7": "NULL",
                                    "8": "NULL",
                                    "9": "2019-01-01 00:00:00.0000000 +00:00",
                                    "10": "2019-01-01 00:00:00.0000000 +00:00",
                                    "11": "NULL",
                                    "12": "FULL",
                                    "13": "C3DD2E6A1FAF2FD229C3DEF59A350CC3",
                                    "14": "DC97602BEEBBA655B3C2007523F776D3",
                                    "15": "D4114BD08502A28602996E236B659DC7",
                                    "16": "5",
                                    "17": "GTA1",
                                    "18": "JAPAN",
                                    "19": "150.00",
                                    "20": "1",
                                    "21": "Tim"
                                },
                                {
                                    "0": "2019-01-01 00:00:00.0000003 +08:00",
                                    "1": "2019-01-01 00:00:00.0000000 +08:00",
                                    "2": "3",
                                    "3": "I",
                                    "4": "GS",
                                    "5": "STAGE.GS.GAMELIST",
                                    "6": "NULL",
                                    "7": "NULL",
                                    "8": "NULL",
                                    "9": "2019-01-01 00:00:00.0000000 +00:00",
                                    "10": "2019-01-01 00:00:00.0000000 +00:00",
                                    "11": "NULL",
                                    "12": "FULL",
                                    "13": "ED87939E6CE3FE8E1D9B0CD917687B1A",
                                    "14": "DC97602BEEBBA655B3C2007523F776D3",
                                    "15": "163C48A3B082E630EC6AA253B87815C5",
                                    "16": "3",
                                    "17": "GTA1",
                                    "18": "JAPAN",
                                    "19": "150.00",
                                    "20": "1",
                                    "21": "Tim"
                                }
                            ]
                        },
                        "text/html": "<table><tr><th>LOAD_DTS</th><th>LOAD_DTS_BATCH</th><th>SEQUENCE_NO</th><th>CDC_OPERATION_CODE</th><th>RECORD_SOURCE</th><th>FULLY_QUALIFIED_FILE_NAME</th><th>INSERT_DTS</th><th>UPDATE_DTS</th><th>EXPORT_DTS</th><th>FILE_TRANSFER_DTS</th><th>SESSION_DTS</th><th>SOURCE_SLICE_DTS</th><th>LOAD_TYPE</th><th>HK</th><th>HD</th><th>HF</th><th>ID</th><th>Game name</th><th>AREA</th><th>PRICE</th><th>FLAG01</th><th>Operator</th></tr><tr><td>2019-01-01 00:00:00.0000002 +08:00</td><td>2019-01-01 00:00:00.0000000 +08:00</td><td>2</td><td>I</td><td>GS</td><td>STAGE.GS.GAMELIST</td><td>NULL</td><td>NULL</td><td>NULL</td><td>2019-01-01 00:00:00.0000000 +00:00</td><td>2019-01-01 00:00:00.0000000 +00:00</td><td>NULL</td><td>FULL</td><td>1CAB7228C79848C5D982B409CCBED23C</td><td>DC97602BEEBBA655B3C2007523F776D3</td><td>EAE3B1B4B4A60C8DB565E69351B55284</td><td>2</td><td>GTA1</td><td>JAPAN</td><td>150.00</td><td>1</td><td>Tim</td></tr><tr><td>2019-01-01 00:00:00.0000001 +08:00</td><td>2019-01-01 00:00:00.0000000 +08:00</td><td>1</td><td>I</td><td>GS</td><td>STAGE.GS.GAMELIST</td><td>NULL</td><td>NULL</td><td>NULL</td><td>2019-01-01 00:00:00.0000000 +00:00</td><td>2019-01-01 00:00:00.0000000 +00:00</td><td>NULL</td><td>FULL</td><td>39D1743976C9CA178083EFDC0BF56FDB</td><td>DC97602BEEBBA655B3C2007523F776D3</td><td>1D7A794BF4E8E5C8E83263267A0BB5CF</td><td>1</td><td>GTA1</td><td>JAPAN</td><td>150.00</td><td>1</td><td>Tim</td></tr><tr><td>2019-01-01 00:00:00.0000004 +08:00</td><td>2019-01-01 00:00:00.0000000 +08:00</td><td>4</td><td>I</td><td>GS</td><td>STAGE.GS.GAMELIST</td><td>NULL</td><td>NULL</td><td>NULL</td><td>2019-01-01 00:00:00.0000000 +00:00</td><td>2019-01-01 00:00:00.0000000 +00:00</td><td>NULL</td><td>FULL</td><td>6556E720C7F287A5AF1DE21E10D5FC45</td><td>DC97602BEEBBA655B3C2007523F776D3</td><td>6CACA286BAF832719164F38655C23EE9</td><td>4</td><td>GTA1</td><td>JAPAN</td><td>150.00</td><td>1</td><td>Tim</td></tr><tr><td>2019-01-01 00:00:00.0000005 +08:00</td><td>2019-01-01 00:00:00.0000000 +08:00</td><td>5</td><td>I</td><td>GS</td><td>STAGE.GS.GAMELIST</td><td>NULL</td><td>NULL</td><td>NULL</td><td>2019-01-01 00:00:00.0000000 +00:00</td><td>2019-01-01 00:00:00.0000000 +00:00</td><td>NULL</td><td>FULL</td><td>C3DD2E6A1FAF2FD229C3DEF59A350CC3</td><td>DC97602BEEBBA655B3C2007523F776D3</td><td>D4114BD08502A28602996E236B659DC7</td><td>5</td><td>GTA1</td><td>JAPAN</td><td>150.00</td><td>1</td><td>Tim</td></tr><tr><td>2019-01-01 00:00:00.0000003 +08:00</td><td>2019-01-01 00:00:00.0000000 +08:00</td><td>3</td><td>I</td><td>GS</td><td>STAGE.GS.GAMELIST</td><td>NULL</td><td>NULL</td><td>NULL</td><td>2019-01-01 00:00:00.0000000 +00:00</td><td>2019-01-01 00:00:00.0000000 +00:00</td><td>NULL</td><td>FULL</td><td>ED87939E6CE3FE8E1D9B0CD917687B1A</td><td>DC97602BEEBBA655B3C2007523F776D3</td><td>163C48A3B082E630EC6AA253B87815C5</td><td>3</td><td>GTA1</td><td>JAPAN</td><td>150.00</td><td>1</td><td>Tim</td></tr></table>"
                    }
                }
            ],
            "execution_count": 4
        },
        {
            "cell_type": "code",
            "source": [
                "EXEC STAGE.gs.USP_GAMELIST_LOG"
            ],
            "metadata": {
                "azdata_cell_guid": "dbccd816-18e2-44ba-8869-1fbcd6b7e53a"
            },
            "outputs": [],
            "execution_count": 0
        },
        {
            "cell_type": "code",
            "source": [
                "SELECT * FROM STAGE.gs.GAMELIST_LOG"
            ],
            "metadata": {
                "azdata_cell_guid": "7656cf82-57e1-4ffb-865d-fcadfd99bd1b"
            },
            "outputs": [],
            "execution_count": 0
        },
        {
            "cell_type": "markdown",
            "source": [
                "--Init load testing finish."
            ],
            "metadata": {
                "azdata_cell_guid": "63ebdbd3-8c2e-4eac-bf82-a8ccb8533fe5"
            }
        }
    ]
}