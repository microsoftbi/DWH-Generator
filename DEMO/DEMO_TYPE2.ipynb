{
    "metadata": {
        "kernelspec": {
            "name": "SQL",
            "display_name": "SQL",
            "language": "sql"
        },
        "language_info": {
            "name": "sql",
            "version": ""
        }
    },
    "nbformat_minor": 2,
    "nbformat": 4,
    "cells": [
        {
            "cell_type": "markdown",
            "source": [
                "First let's take a look at source data."
            ],
            "metadata": {
                "azdata_cell_guid": "1ee120b9-8af6-4451-98f2-d8fe6e68b617"
            }
        },
        {
            "cell_type": "code",
            "source": [
                "SELECT * FROM [GAMESTORE].[dbo].[GAMELIST]\r\n",
                "SELECT * FROM [GAMESTORE].[dbo].[CUSTOMER]\r\n",
                "SELECT * FROM [GAMESTORE].[dbo].[ORDER]"
            ],
            "metadata": {
                "azdata_cell_guid": "0c45f4d9-9a9d-4871-934e-1379ac6209dd"
            },
            "outputs": [
                {
                    "output_type": "display_data",
                    "data": {
                        "text/html": "(5 rows affected)"
                    },
                    "metadata": {}
                },
                {
                    "output_type": "display_data",
                    "data": {
                        "text/html": "(3 rows affected)"
                    },
                    "metadata": {}
                },
                {
                    "output_type": "display_data",
                    "data": {
                        "text/html": "(6 rows affected)"
                    },
                    "metadata": {}
                },
                {
                    "output_type": "display_data",
                    "data": {
                        "text/html": "Total execution time: 00:00:00.146"
                    },
                    "metadata": {}
                },
                {
                    "output_type": "execute_result",
                    "execution_count": 1,
                    "data": {
                        "application/vnd.dataresource+json": {
                            "schema": {
                                "fields": [
                                    {
                                        "name": "ID"
                                    },
                                    {
                                        "name": "Game name"
                                    },
                                    {
                                        "name": "AREA"
                                    },
                                    {
                                        "name": "PRICE"
                                    },
                                    {
                                        "name": "FLAG01"
                                    },
                                    {
                                        "name": "FLAG02"
                                    },
                                    {
                                        "name": "FLAG03"
                                    },
                                    {
                                        "name": "FLAG04"
                                    },
                                    {
                                        "name": "FLAG05"
                                    },
                                    {
                                        "name": "Operator"
                                    },
                                    {
                                        "name": "AREA_HTR"
                                    },
                                    {
                                        "name": "PRICE_HTR"
                                    }
                                ]
                            },
                            "data": [
                                {
                                    "0": "1",
                                    "1": "GTA1",
                                    "2": "JAPAN",
                                    "3": "20.00",
                                    "4": "1",
                                    "5": "1",
                                    "6": "1",
                                    "7": "1",
                                    "8": "1",
                                    "9": "Sam",
                                    "10": "",
                                    "11": ""
                                },
                                {
                                    "0": "2",
                                    "1": "GTA2",
                                    "2": "JAPAN",
                                    "3": "60.00",
                                    "4": "1",
                                    "5": "1",
                                    "6": "1",
                                    "7": "1",
                                    "8": "1",
                                    "9": "Sam",
                                    "10": "",
                                    "11": ""
                                },
                                {
                                    "0": "3",
                                    "1": "GTA3",
                                    "2": "KOREA",
                                    "3": "80.00",
                                    "4": "1",
                                    "5": "1",
                                    "6": "1",
                                    "7": "1",
                                    "8": "1",
                                    "9": "Sam",
                                    "10": "",
                                    "11": ""
                                },
                                {
                                    "0": "4",
                                    "1": "GTA4",
                                    "2": "JAPAN",
                                    "3": "160.00",
                                    "4": "1",
                                    "5": "1",
                                    "6": "1",
                                    "7": "1",
                                    "8": "1",
                                    "9": "Sam",
                                    "10": "",
                                    "11": ""
                                },
                                {
                                    "0": "5",
                                    "1": "GTA5",
                                    "2": "JAPAN",
                                    "3": "180.00",
                                    "4": "1",
                                    "5": "1",
                                    "6": "1",
                                    "7": "1",
                                    "8": "1",
                                    "9": "Sam",
                                    "10": "",
                                    "11": ""
                                }
                            ]
                        },
                        "text/html": "<table><tr><th>ID</th><th>Game name</th><th>AREA</th><th>PRICE</th><th>FLAG01</th><th>FLAG02</th><th>FLAG03</th><th>FLAG04</th><th>FLAG05</th><th>Operator</th><th>AREA_HTR</th><th>PRICE_HTR</th></tr><tr><td>1</td><td>GTA1</td><td>JAPAN</td><td>20.00</td><td>1</td><td>1</td><td>1</td><td>1</td><td>1</td><td>Sam</td><td></td><td></td></tr><tr><td>2</td><td>GTA2</td><td>JAPAN</td><td>60.00</td><td>1</td><td>1</td><td>1</td><td>1</td><td>1</td><td>Sam</td><td></td><td></td></tr><tr><td>3</td><td>GTA3</td><td>KOREA</td><td>80.00</td><td>1</td><td>1</td><td>1</td><td>1</td><td>1</td><td>Sam</td><td></td><td></td></tr><tr><td>4</td><td>GTA4</td><td>JAPAN</td><td>160.00</td><td>1</td><td>1</td><td>1</td><td>1</td><td>1</td><td>Sam</td><td></td><td></td></tr><tr><td>5</td><td>GTA5</td><td>JAPAN</td><td>180.00</td><td>1</td><td>1</td><td>1</td><td>1</td><td>1</td><td>Sam</td><td></td><td></td></tr></table>"
                    },
                    "metadata": {}
                },
                {
                    "output_type": "execute_result",
                    "execution_count": 1,
                    "data": {
                        "application/vnd.dataresource+json": {
                            "schema": {
                                "fields": [
                                    {
                                        "name": "CustomerID"
                                    },
                                    {
                                        "name": "CustomerName"
                                    },
                                    {
                                        "name": "Birth"
                                    },
                                    {
                                        "name": "Gender"
                                    },
                                    {
                                        "name": "Address"
                                    }
                                ]
                            },
                            "data": [
                                {
                                    "0": "1",
                                    "1": "Wade",
                                    "2": "1980-01-01",
                                    "3": "1",
                                    "4": "China"
                                },
                                {
                                    "0": "2",
                                    "1": "James",
                                    "2": "1981-01-01",
                                    "3": "1",
                                    "4": "USA"
                                },
                                {
                                    "0": "3",
                                    "1": "Wege",
                                    "2": "1985-01-01",
                                    "3": "1",
                                    "4": "Germany"
                                }
                            ]
                        },
                        "text/html": "<table><tr><th>CustomerID</th><th>CustomerName</th><th>Birth</th><th>Gender</th><th>Address</th></tr><tr><td>1</td><td>Wade</td><td>1980-01-01</td><td>1</td><td>China</td></tr><tr><td>2</td><td>James</td><td>1981-01-01</td><td>1</td><td>USA</td></tr><tr><td>3</td><td>Wege</td><td>1985-01-01</td><td>1</td><td>Germany</td></tr></table>"
                    },
                    "metadata": {}
                },
                {
                    "output_type": "execute_result",
                    "execution_count": 1,
                    "data": {
                        "application/vnd.dataresource+json": {
                            "schema": {
                                "fields": [
                                    {
                                        "name": "ORDERID"
                                    },
                                    {
                                        "name": "ORDERDATE"
                                    },
                                    {
                                        "name": "GAMEID"
                                    },
                                    {
                                        "name": "CUSTOMERID"
                                    }
                                ]
                            },
                            "data": [
                                {
                                    "0": "1",
                                    "1": "2010-01-01",
                                    "2": "1",
                                    "3": "2"
                                },
                                {
                                    "0": "2",
                                    "1": "2010-02-01",
                                    "2": "1",
                                    "3": "3"
                                },
                                {
                                    "0": "3",
                                    "1": "2010-01-01",
                                    "2": "2",
                                    "3": "1"
                                },
                                {
                                    "0": "4",
                                    "1": "2010-01-02",
                                    "2": "3",
                                    "3": "2"
                                },
                                {
                                    "0": "5",
                                    "1": "2010-02-03",
                                    "2": "4",
                                    "3": "3"
                                },
                                {
                                    "0": "6",
                                    "1": "2010-01-01",
                                    "2": "5",
                                    "3": "1"
                                }
                            ]
                        },
                        "text/html": "<table><tr><th>ORDERID</th><th>ORDERDATE</th><th>GAMEID</th><th>CUSTOMERID</th></tr><tr><td>1</td><td>2010-01-01</td><td>1</td><td>2</td></tr><tr><td>2</td><td>2010-02-01</td><td>1</td><td>3</td></tr><tr><td>3</td><td>2010-01-01</td><td>2</td><td>1</td></tr><tr><td>4</td><td>2010-01-02</td><td>3</td><td>2</td></tr><tr><td>5</td><td>2010-02-03</td><td>4</td><td>3</td></tr><tr><td>6</td><td>2010-01-01</td><td>5</td><td>1</td></tr></table>"
                    },
                    "metadata": {}
                }
            ],
            "execution_count": 1
        },
        {
            "cell_type": "markdown",
            "source": [
                "Then import schema information into META database."
            ],
            "metadata": {
                "azdata_cell_guid": "f28260d2-566f-45ad-918d-f4716afcafc4"
            }
        },
        {
            "cell_type": "code",
            "source": [
                "INSERT INTO META.DBO.ATTRIBUTE\r\n",
                "(\r\n",
                "    TABLE_CATALOG,\r\n",
                "    TABLE_NAME,\r\n",
                "    COLUMN_NAME,\r\n",
                "    DATA_TYPE,\r\n",
                "    CHARACTER_MAXIMUM_LENGTH,\r\n",
                "    NUMERIC_PRECISION,\r\n",
                "    NUMERIC_SCALE\r\n",
                ")\r\n",
                "SELECT\r\n",
                "    TABLE_CATALOG,\r\n",
                "    TABLE_NAME,\r\n",
                "    COLUMN_NAME,\r\n",
                "    DATA_TYPE,\r\n",
                "    CHARACTER_MAXIMUM_LENGTH,\r\n",
                "    NUMERIC_PRECISION,\r\n",
                "    NUMERIC_SCALE\r\n",
                "FROM [GAMESTORE].INFORMATION_SCHEMA.COLUMNS"
            ],
            "metadata": {
                "azdata_cell_guid": "f07ec0ce-afea-4ce9-afed-f30e3196591c"
            },
            "outputs": [
                {
                    "output_type": "display_data",
                    "data": {
                        "text/html": "(21 rows affected)"
                    },
                    "metadata": {}
                },
                {
                    "output_type": "display_data",
                    "data": {
                        "text/html": "Total execution time: 00:00:00.079"
                    },
                    "metadata": {}
                }
            ],
            "execution_count": 1
        },
        {
            "cell_type": "markdown",
            "source": [
                "Also have a look at the META database."
            ],
            "metadata": {
                "azdata_cell_guid": "2ea106bb-18e6-4421-98fa-a0e2cde67cb6"
            }
        },
        {
            "cell_type": "code",
            "source": [
                "SELECT * FROM META.DBO.ATTRIBUTE"
            ],
            "metadata": {
                "azdata_cell_guid": "09f236c7-5dce-4b27-a259-81f0dbfd12fd"
            },
            "outputs": [
                {
                    "output_type": "display_data",
                    "data": {
                        "text/html": "(21 rows affected)"
                    },
                    "metadata": {}
                },
                {
                    "output_type": "display_data",
                    "data": {
                        "text/html": "Total execution time: 00:00:00.038"
                    },
                    "metadata": {}
                },
                {
                    "output_type": "execute_result",
                    "metadata": {},
                    "execution_count": 2,
                    "data": {
                        "application/vnd.dataresource+json": {
                            "schema": {
                                "fields": [
                                    {
                                        "name": "ID"
                                    },
                                    {
                                        "name": "TABLE_CATALOG"
                                    },
                                    {
                                        "name": "TABLE_NAME"
                                    },
                                    {
                                        "name": "COLUMN_NAME"
                                    },
                                    {
                                        "name": "DATA_TYPE"
                                    },
                                    {
                                        "name": "CHARACTER_MAXIMUM_LENGTH"
                                    },
                                    {
                                        "name": "NUMERIC_PRECISION"
                                    },
                                    {
                                        "name": "NUMERIC_SCALE"
                                    },
                                    {
                                        "name": "BK"
                                    },
                                    {
                                        "name": "PK"
                                    },
                                    {
                                        "name": "DI"
                                    },
                                    {
                                        "name": "DV_SAT_ID"
                                    },
                                    {
                                        "name": "DV_HUB_ID"
                                    }
                                ]
                            },
                            "data": [
                                {
                                    "0": "1",
                                    "1": "GAMESTORE",
                                    "2": "GAMELIST",
                                    "3": "ID",
                                    "4": "int",
                                    "5": "NULL",
                                    "6": "10",
                                    "7": "0",
                                    "8": "NULL",
                                    "9": "NULL",
                                    "10": "NULL",
                                    "11": "NULL",
                                    "12": "NULL"
                                },
                                {
                                    "0": "2",
                                    "1": "GAMESTORE",
                                    "2": "GAMELIST",
                                    "3": "Game name",
                                    "4": "nvarchar",
                                    "5": "50",
                                    "6": "NULL",
                                    "7": "NULL",
                                    "8": "NULL",
                                    "9": "NULL",
                                    "10": "NULL",
                                    "11": "NULL",
                                    "12": "NULL"
                                },
                                {
                                    "0": "3",
                                    "1": "GAMESTORE",
                                    "2": "GAMELIST",
                                    "3": "AREA",
                                    "4": "nvarchar",
                                    "5": "20",
                                    "6": "NULL",
                                    "7": "NULL",
                                    "8": "NULL",
                                    "9": "NULL",
                                    "10": "NULL",
                                    "11": "NULL",
                                    "12": "NULL"
                                },
                                {
                                    "0": "4",
                                    "1": "GAMESTORE",
                                    "2": "GAMELIST",
                                    "3": "PRICE",
                                    "4": "decimal",
                                    "5": "NULL",
                                    "6": "10",
                                    "7": "2",
                                    "8": "NULL",
                                    "9": "NULL",
                                    "10": "NULL",
                                    "11": "NULL",
                                    "12": "NULL"
                                },
                                {
                                    "0": "5",
                                    "1": "GAMESTORE",
                                    "2": "GAMELIST",
                                    "3": "FLAG01",
                                    "4": "int",
                                    "5": "NULL",
                                    "6": "10",
                                    "7": "0",
                                    "8": "NULL",
                                    "9": "NULL",
                                    "10": "NULL",
                                    "11": "NULL",
                                    "12": "NULL"
                                },
                                {
                                    "0": "6",
                                    "1": "GAMESTORE",
                                    "2": "GAMELIST",
                                    "3": "FLAG02",
                                    "4": "int",
                                    "5": "NULL",
                                    "6": "10",
                                    "7": "0",
                                    "8": "NULL",
                                    "9": "NULL",
                                    "10": "NULL",
                                    "11": "NULL",
                                    "12": "NULL"
                                },
                                {
                                    "0": "7",
                                    "1": "GAMESTORE",
                                    "2": "GAMELIST",
                                    "3": "FLAG03",
                                    "4": "int",
                                    "5": "NULL",
                                    "6": "10",
                                    "7": "0",
                                    "8": "NULL",
                                    "9": "NULL",
                                    "10": "NULL",
                                    "11": "NULL",
                                    "12": "NULL"
                                },
                                {
                                    "0": "8",
                                    "1": "GAMESTORE",
                                    "2": "GAMELIST",
                                    "3": "FLAG04",
                                    "4": "int",
                                    "5": "NULL",
                                    "6": "10",
                                    "7": "0",
                                    "8": "NULL",
                                    "9": "NULL",
                                    "10": "NULL",
                                    "11": "NULL",
                                    "12": "NULL"
                                },
                                {
                                    "0": "9",
                                    "1": "GAMESTORE",
                                    "2": "GAMELIST",
                                    "3": "FLAG05",
                                    "4": "int",
                                    "5": "NULL",
                                    "6": "10",
                                    "7": "0",
                                    "8": "NULL",
                                    "9": "NULL",
                                    "10": "NULL",
                                    "11": "NULL",
                                    "12": "NULL"
                                },
                                {
                                    "0": "10",
                                    "1": "GAMESTORE",
                                    "2": "GAMELIST",
                                    "3": "Operator",
                                    "4": "nvarchar",
                                    "5": "20",
                                    "6": "NULL",
                                    "7": "NULL",
                                    "8": "NULL",
                                    "9": "NULL",
                                    "10": "NULL",
                                    "11": "NULL",
                                    "12": "NULL"
                                },
                                {
                                    "0": "11",
                                    "1": "GAMESTORE",
                                    "2": "GAMELIST",
                                    "3": "AREA_HTR",
                                    "4": "nvarchar",
                                    "5": "50",
                                    "6": "NULL",
                                    "7": "NULL",
                                    "8": "NULL",
                                    "9": "NULL",
                                    "10": "NULL",
                                    "11": "NULL",
                                    "12": "NULL"
                                },
                                {
                                    "0": "12",
                                    "1": "GAMESTORE",
                                    "2": "GAMELIST",
                                    "3": "PRICE_HTR",
                                    "4": "nvarchar",
                                    "5": "50",
                                    "6": "NULL",
                                    "7": "NULL",
                                    "8": "NULL",
                                    "9": "NULL",
                                    "10": "NULL",
                                    "11": "NULL",
                                    "12": "NULL"
                                },
                                {
                                    "0": "13",
                                    "1": "GAMESTORE",
                                    "2": "CUSTOMER",
                                    "3": "CustomerID",
                                    "4": "int",
                                    "5": "NULL",
                                    "6": "10",
                                    "7": "0",
                                    "8": "NULL",
                                    "9": "NULL",
                                    "10": "NULL",
                                    "11": "NULL",
                                    "12": "NULL"
                                },
                                {
                                    "0": "14",
                                    "1": "GAMESTORE",
                                    "2": "CUSTOMER",
                                    "3": "CustomerName",
                                    "4": "nvarchar",
                                    "5": "30",
                                    "6": "NULL",
                                    "7": "NULL",
                                    "8": "NULL",
                                    "9": "NULL",
                                    "10": "NULL",
                                    "11": "NULL",
                                    "12": "NULL"
                                },
                                {
                                    "0": "15",
                                    "1": "GAMESTORE",
                                    "2": "CUSTOMER",
                                    "3": "Birth",
                                    "4": "date",
                                    "5": "NULL",
                                    "6": "NULL",
                                    "7": "NULL",
                                    "8": "NULL",
                                    "9": "NULL",
                                    "10": "NULL",
                                    "11": "NULL",
                                    "12": "NULL"
                                },
                                {
                                    "0": "16",
                                    "1": "GAMESTORE",
                                    "2": "CUSTOMER",
                                    "3": "Gender",
                                    "4": "int",
                                    "5": "NULL",
                                    "6": "10",
                                    "7": "0",
                                    "8": "NULL",
                                    "9": "NULL",
                                    "10": "NULL",
                                    "11": "NULL",
                                    "12": "NULL"
                                },
                                {
                                    "0": "17",
                                    "1": "GAMESTORE",
                                    "2": "CUSTOMER",
                                    "3": "Address",
                                    "4": "nvarchar",
                                    "5": "50",
                                    "6": "NULL",
                                    "7": "NULL",
                                    "8": "NULL",
                                    "9": "NULL",
                                    "10": "NULL",
                                    "11": "NULL",
                                    "12": "NULL"
                                },
                                {
                                    "0": "18",
                                    "1": "GAMESTORE",
                                    "2": "ORDER",
                                    "3": "ORDERID",
                                    "4": "int",
                                    "5": "NULL",
                                    "6": "10",
                                    "7": "0",
                                    "8": "NULL",
                                    "9": "NULL",
                                    "10": "NULL",
                                    "11": "NULL",
                                    "12": "NULL"
                                },
                                {
                                    "0": "19",
                                    "1": "GAMESTORE",
                                    "2": "ORDER",
                                    "3": "ORDERDATE",
                                    "4": "date",
                                    "5": "NULL",
                                    "6": "NULL",
                                    "7": "NULL",
                                    "8": "NULL",
                                    "9": "NULL",
                                    "10": "NULL",
                                    "11": "NULL",
                                    "12": "NULL"
                                },
                                {
                                    "0": "20",
                                    "1": "GAMESTORE",
                                    "2": "ORDER",
                                    "3": "GAMEID",
                                    "4": "int",
                                    "5": "NULL",
                                    "6": "10",
                                    "7": "0",
                                    "8": "NULL",
                                    "9": "NULL",
                                    "10": "NULL",
                                    "11": "NULL",
                                    "12": "NULL"
                                },
                                {
                                    "0": "21",
                                    "1": "GAMESTORE",
                                    "2": "ORDER",
                                    "3": "CUSTOMERID",
                                    "4": "int",
                                    "5": "NULL",
                                    "6": "10",
                                    "7": "0",
                                    "8": "NULL",
                                    "9": "NULL",
                                    "10": "NULL",
                                    "11": "NULL",
                                    "12": "NULL"
                                }
                            ]
                        },
                        "text/html": "<table><tr><th>ID</th><th>TABLE_CATALOG</th><th>TABLE_NAME</th><th>COLUMN_NAME</th><th>DATA_TYPE</th><th>CHARACTER_MAXIMUM_LENGTH</th><th>NUMERIC_PRECISION</th><th>NUMERIC_SCALE</th><th>BK</th><th>PK</th><th>DI</th><th>DV_SAT_ID</th><th>DV_HUB_ID</th></tr><tr><td>1</td><td>GAMESTORE</td><td>GAMELIST</td><td>ID</td><td>int</td><td>NULL</td><td>10</td><td>0</td><td>NULL</td><td>NULL</td><td>NULL</td><td>NULL</td><td>NULL</td></tr><tr><td>2</td><td>GAMESTORE</td><td>GAMELIST</td><td>Game name</td><td>nvarchar</td><td>50</td><td>NULL</td><td>NULL</td><td>NULL</td><td>NULL</td><td>NULL</td><td>NULL</td><td>NULL</td></tr><tr><td>3</td><td>GAMESTORE</td><td>GAMELIST</td><td>AREA</td><td>nvarchar</td><td>20</td><td>NULL</td><td>NULL</td><td>NULL</td><td>NULL</td><td>NULL</td><td>NULL</td><td>NULL</td></tr><tr><td>4</td><td>GAMESTORE</td><td>GAMELIST</td><td>PRICE</td><td>decimal</td><td>NULL</td><td>10</td><td>2</td><td>NULL</td><td>NULL</td><td>NULL</td><td>NULL</td><td>NULL</td></tr><tr><td>5</td><td>GAMESTORE</td><td>GAMELIST</td><td>FLAG01</td><td>int</td><td>NULL</td><td>10</td><td>0</td><td>NULL</td><td>NULL</td><td>NULL</td><td>NULL</td><td>NULL</td></tr><tr><td>6</td><td>GAMESTORE</td><td>GAMELIST</td><td>FLAG02</td><td>int</td><td>NULL</td><td>10</td><td>0</td><td>NULL</td><td>NULL</td><td>NULL</td><td>NULL</td><td>NULL</td></tr><tr><td>7</td><td>GAMESTORE</td><td>GAMELIST</td><td>FLAG03</td><td>int</td><td>NULL</td><td>10</td><td>0</td><td>NULL</td><td>NULL</td><td>NULL</td><td>NULL</td><td>NULL</td></tr><tr><td>8</td><td>GAMESTORE</td><td>GAMELIST</td><td>FLAG04</td><td>int</td><td>NULL</td><td>10</td><td>0</td><td>NULL</td><td>NULL</td><td>NULL</td><td>NULL</td><td>NULL</td></tr><tr><td>9</td><td>GAMESTORE</td><td>GAMELIST</td><td>FLAG05</td><td>int</td><td>NULL</td><td>10</td><td>0</td><td>NULL</td><td>NULL</td><td>NULL</td><td>NULL</td><td>NULL</td></tr><tr><td>10</td><td>GAMESTORE</td><td>GAMELIST</td><td>Operator</td><td>nvarchar</td><td>20</td><td>NULL</td><td>NULL</td><td>NULL</td><td>NULL</td><td>NULL</td><td>NULL</td><td>NULL</td></tr><tr><td>11</td><td>GAMESTORE</td><td>GAMELIST</td><td>AREA_HTR</td><td>nvarchar</td><td>50</td><td>NULL</td><td>NULL</td><td>NULL</td><td>NULL</td><td>NULL</td><td>NULL</td><td>NULL</td></tr><tr><td>12</td><td>GAMESTORE</td><td>GAMELIST</td><td>PRICE_HTR</td><td>nvarchar</td><td>50</td><td>NULL</td><td>NULL</td><td>NULL</td><td>NULL</td><td>NULL</td><td>NULL</td><td>NULL</td></tr><tr><td>13</td><td>GAMESTORE</td><td>CUSTOMER</td><td>CustomerID</td><td>int</td><td>NULL</td><td>10</td><td>0</td><td>NULL</td><td>NULL</td><td>NULL</td><td>NULL</td><td>NULL</td></tr><tr><td>14</td><td>GAMESTORE</td><td>CUSTOMER</td><td>CustomerName</td><td>nvarchar</td><td>30</td><td>NULL</td><td>NULL</td><td>NULL</td><td>NULL</td><td>NULL</td><td>NULL</td><td>NULL</td></tr><tr><td>15</td><td>GAMESTORE</td><td>CUSTOMER</td><td>Birth</td><td>date</td><td>NULL</td><td>NULL</td><td>NULL</td><td>NULL</td><td>NULL</td><td>NULL</td><td>NULL</td><td>NULL</td></tr><tr><td>16</td><td>GAMESTORE</td><td>CUSTOMER</td><td>Gender</td><td>int</td><td>NULL</td><td>10</td><td>0</td><td>NULL</td><td>NULL</td><td>NULL</td><td>NULL</td><td>NULL</td></tr><tr><td>17</td><td>GAMESTORE</td><td>CUSTOMER</td><td>Address</td><td>nvarchar</td><td>50</td><td>NULL</td><td>NULL</td><td>NULL</td><td>NULL</td><td>NULL</td><td>NULL</td><td>NULL</td></tr><tr><td>18</td><td>GAMESTORE</td><td>ORDER</td><td>ORDERID</td><td>int</td><td>NULL</td><td>10</td><td>0</td><td>NULL</td><td>NULL</td><td>NULL</td><td>NULL</td><td>NULL</td></tr><tr><td>19</td><td>GAMESTORE</td><td>ORDER</td><td>ORDERDATE</td><td>date</td><td>NULL</td><td>NULL</td><td>NULL</td><td>NULL</td><td>NULL</td><td>NULL</td><td>NULL</td><td>NULL</td></tr><tr><td>20</td><td>GAMESTORE</td><td>ORDER</td><td>GAMEID</td><td>int</td><td>NULL</td><td>10</td><td>0</td><td>NULL</td><td>NULL</td><td>NULL</td><td>NULL</td><td>NULL</td></tr><tr><td>21</td><td>GAMESTORE</td><td>ORDER</td><td>CUSTOMERID</td><td>int</td><td>NULL</td><td>10</td><td>0</td><td>NULL</td><td>NULL</td><td>NULL</td><td>NULL</td><td>NULL</td></tr></table>"
                    }
                }
            ],
            "execution_count": 2
        },
        {
            "cell_type": "markdown",
            "source": [
                "Then we can open generator to:\r\n",
                "\r\n",
                "Decide which objects needed to be generated.\r\n",
                "\r\n",
                "Generate and deploy data flow.\r\n",
                "\r\n",
                ""
            ],
            "metadata": {
                "azdata_cell_guid": "04087c58-d5af-4732-bafe-422ec1859907"
            }
        },
        {
            "cell_type": "markdown",
            "source": [
                "In the middle, need to load source data to STG table."
            ],
            "metadata": {
                "azdata_cell_guid": "e38be7bd-059c-40fa-9230-46c908a085b0"
            }
        },
        {
            "cell_type": "code",
            "source": [
                "TRUNCATE TABLE STAGE.GS.GAMELIST_STG\r\n",
                "\r\n",
                "INSERT INTO STAGE.GS.GAMELIST_STG\r\n",
                "SELECT 1, '2019-01-01','STAGE.GS.GAMELIST', '2019-01-01', 'GS', 1, 'GTA1', 'JAPAN', 150, 'Tim'\r\n",
                "UNION ALL\r\n",
                "SELECT 2, '2019-01-01','STAGE.GS.GAMELIST', '2019-01-01', 'GS', 2, 'GTA1', 'JAPAN', 150, 'Tim'\r\n",
                "UNION ALL\r\n",
                "SELECT 3, '2019-01-01','STAGE.GS.GAMELIST', '2019-01-01', 'GS', 3, 'GTA1', 'JAPAN', 150, 'Tim'\r\n",
                "UNION ALL\r\n",
                "SELECT 4, '2019-01-01','STAGE.GS.GAMELIST', '2019-01-01', 'GS', 4, 'GTA1', 'JAPAN', 150, 'Tim'\r\n",
                "UNION ALL\r\n",
                "SELECT 5, '2019-01-01','STAGE.GS.GAMELIST', '2019-01-01', 'GS', 5, 'GTA1', 'JAPAN', 150, 'Tim'\r\n",
                "\r\n",
                "SELECT * FROM STAGE.GS.GAMELIST_STG"
            ],
            "metadata": {
                "azdata_cell_guid": "dbd2378b-6ee5-4a9e-ace7-6f3c5dea9636"
            },
            "outputs": [
                {
                    "output_type": "display_data",
                    "data": {
                        "text/html": "(5 rows affected)"
                    },
                    "metadata": {}
                },
                {
                    "output_type": "display_data",
                    "data": {
                        "text/html": "(5 rows affected)"
                    },
                    "metadata": {}
                },
                {
                    "output_type": "display_data",
                    "data": {
                        "text/html": "Total execution time: 00:00:00.047"
                    },
                    "metadata": {}
                },
                {
                    "output_type": "execute_result",
                    "metadata": {},
                    "execution_count": 5,
                    "data": {
                        "application/vnd.dataresource+json": {
                            "schema": {
                                "fields": [
                                    {
                                        "name": "SEQUENCE_NO"
                                    },
                                    {
                                        "name": "SESSION_DTS"
                                    },
                                    {
                                        "name": "Fully_Qualified_File_Name"
                                    },
                                    {
                                        "name": "FILE_TRANSFER_DTS"
                                    },
                                    {
                                        "name": "REC_SRC"
                                    },
                                    {
                                        "name": "ID"
                                    },
                                    {
                                        "name": "Game name"
                                    },
                                    {
                                        "name": "AREA"
                                    },
                                    {
                                        "name": "PRICE"
                                    },
                                    {
                                        "name": "Operator"
                                    }
                                ]
                            },
                            "data": [
                                {
                                    "0": "1",
                                    "1": "2019-01-01 00:00:00.0000000 +00:00",
                                    "2": "STAGE.GS.GAMELIST",
                                    "3": "2019-01-01 00:00:00.0000000 +00:00",
                                    "4": "GS",
                                    "5": "1",
                                    "6": "GTA1",
                                    "7": "JAPAN",
                                    "8": "150.00",
                                    "9": "Tim"
                                },
                                {
                                    "0": "2",
                                    "1": "2019-01-01 00:00:00.0000000 +00:00",
                                    "2": "STAGE.GS.GAMELIST",
                                    "3": "2019-01-01 00:00:00.0000000 +00:00",
                                    "4": "GS",
                                    "5": "2",
                                    "6": "GTA1",
                                    "7": "JAPAN",
                                    "8": "150.00",
                                    "9": "Tim"
                                },
                                {
                                    "0": "3",
                                    "1": "2019-01-01 00:00:00.0000000 +00:00",
                                    "2": "STAGE.GS.GAMELIST",
                                    "3": "2019-01-01 00:00:00.0000000 +00:00",
                                    "4": "GS",
                                    "5": "3",
                                    "6": "GTA1",
                                    "7": "JAPAN",
                                    "8": "150.00",
                                    "9": "Tim"
                                },
                                {
                                    "0": "4",
                                    "1": "2019-01-01 00:00:00.0000000 +00:00",
                                    "2": "STAGE.GS.GAMELIST",
                                    "3": "2019-01-01 00:00:00.0000000 +00:00",
                                    "4": "GS",
                                    "5": "4",
                                    "6": "GTA1",
                                    "7": "JAPAN",
                                    "8": "150.00",
                                    "9": "Tim"
                                },
                                {
                                    "0": "5",
                                    "1": "2019-01-01 00:00:00.0000000 +00:00",
                                    "2": "STAGE.GS.GAMELIST",
                                    "3": "2019-01-01 00:00:00.0000000 +00:00",
                                    "4": "GS",
                                    "5": "5",
                                    "6": "GTA1",
                                    "7": "JAPAN",
                                    "8": "150.00",
                                    "9": "Tim"
                                }
                            ]
                        },
                        "text/html": "<table><tr><th>SEQUENCE_NO</th><th>SESSION_DTS</th><th>Fully_Qualified_File_Name</th><th>FILE_TRANSFER_DTS</th><th>REC_SRC</th><th>ID</th><th>Game name</th><th>AREA</th><th>PRICE</th><th>Operator</th></tr><tr><td>1</td><td>2019-01-01 00:00:00.0000000 +00:00</td><td>STAGE.GS.GAMELIST</td><td>2019-01-01 00:00:00.0000000 +00:00</td><td>GS</td><td>1</td><td>GTA1</td><td>JAPAN</td><td>150.00</td><td>Tim</td></tr><tr><td>2</td><td>2019-01-01 00:00:00.0000000 +00:00</td><td>STAGE.GS.GAMELIST</td><td>2019-01-01 00:00:00.0000000 +00:00</td><td>GS</td><td>2</td><td>GTA1</td><td>JAPAN</td><td>150.00</td><td>Tim</td></tr><tr><td>3</td><td>2019-01-01 00:00:00.0000000 +00:00</td><td>STAGE.GS.GAMELIST</td><td>2019-01-01 00:00:00.0000000 +00:00</td><td>GS</td><td>3</td><td>GTA1</td><td>JAPAN</td><td>150.00</td><td>Tim</td></tr><tr><td>4</td><td>2019-01-01 00:00:00.0000000 +00:00</td><td>STAGE.GS.GAMELIST</td><td>2019-01-01 00:00:00.0000000 +00:00</td><td>GS</td><td>4</td><td>GTA1</td><td>JAPAN</td><td>150.00</td><td>Tim</td></tr><tr><td>5</td><td>2019-01-01 00:00:00.0000000 +00:00</td><td>STAGE.GS.GAMELIST</td><td>2019-01-01 00:00:00.0000000 +00:00</td><td>GS</td><td>5</td><td>GTA1</td><td>JAPAN</td><td>150.00</td><td>Tim</td></tr></table>"
                    }
                }
            ],
            "execution_count": 5
        },
        {
            "cell_type": "markdown",
            "source": [
                "Then run the data flow."
            ],
            "metadata": {
                "azdata_cell_guid": "23986053-d36f-42dd-a310-b6911a70f006"
            }
        },
        {
            "cell_type": "code",
            "source": [
                "USE STAGE\r\n",
                "GO\r\n",
                "\r\n",
                "EXEC [STAGE].[gs].[USP_GAMELIST_CDC]\r\n",
                "EXEC [STAGE].[gs].[USP_GAMELIST_LOG]\r\n",
                ""
            ],
            "metadata": {
                "azdata_cell_guid": "9bf3b893-03a0-4196-a864-a4fd6796ce3d"
            },
            "outputs": [],
            "execution_count": 0
        },
        {
            "cell_type": "markdown",
            "source": [
                "Check final result."
            ],
            "metadata": {
                "azdata_cell_guid": "b4944cca-bc8e-42d6-a961-a210db7eed9c"
            }
        },
        {
            "cell_type": "code",
            "source": [
                "SELECT * FROM [STAGE].[gs].[GAMELIST_STG]\r\n",
                "SELECT * FROM [STAGE].[gs].[GAMELIST_CDC]\r\n",
                "SELECT * FROM [STAGE].[gs].[GAMELIST_LOG]"
            ],
            "metadata": {
                "azdata_cell_guid": "62ab3768-7dce-4fcb-a37b-229fcb041813"
            },
            "outputs": [
                {
                    "output_type": "display_data",
                    "data": {
                        "text/html": "(5 rows affected)"
                    },
                    "metadata": {}
                },
                {
                    "output_type": "display_data",
                    "data": {
                        "text/html": "(5 rows affected)"
                    },
                    "metadata": {}
                },
                {
                    "output_type": "display_data",
                    "data": {
                        "text/html": "(5 rows affected)"
                    },
                    "metadata": {}
                },
                {
                    "output_type": "display_data",
                    "data": {
                        "text/html": "Total execution time: 00:00:00.040"
                    },
                    "metadata": {}
                },
                {
                    "output_type": "execute_result",
                    "metadata": {},
                    "execution_count": 6,
                    "data": {
                        "application/vnd.dataresource+json": {
                            "schema": {
                                "fields": [
                                    {
                                        "name": "SEQUENCE_NO"
                                    },
                                    {
                                        "name": "SESSION_DTS"
                                    },
                                    {
                                        "name": "Fully_Qualified_File_Name"
                                    },
                                    {
                                        "name": "FILE_TRANSFER_DTS"
                                    },
                                    {
                                        "name": "REC_SRC"
                                    },
                                    {
                                        "name": "ID"
                                    },
                                    {
                                        "name": "Game name"
                                    },
                                    {
                                        "name": "AREA"
                                    },
                                    {
                                        "name": "PRICE"
                                    },
                                    {
                                        "name": "Operator"
                                    }
                                ]
                            },
                            "data": [
                                {
                                    "0": "1",
                                    "1": "2019-01-01 00:00:00.0000000 +00:00",
                                    "2": "STAGE.GS.GAMELIST",
                                    "3": "2019-01-01 00:00:00.0000000 +00:00",
                                    "4": "GS",
                                    "5": "1",
                                    "6": "GTA1",
                                    "7": "JAPAN",
                                    "8": "150.00",
                                    "9": "Tim"
                                },
                                {
                                    "0": "2",
                                    "1": "2019-01-01 00:00:00.0000000 +00:00",
                                    "2": "STAGE.GS.GAMELIST",
                                    "3": "2019-01-01 00:00:00.0000000 +00:00",
                                    "4": "GS",
                                    "5": "2",
                                    "6": "GTA1",
                                    "7": "JAPAN",
                                    "8": "150.00",
                                    "9": "Tim"
                                },
                                {
                                    "0": "3",
                                    "1": "2019-01-01 00:00:00.0000000 +00:00",
                                    "2": "STAGE.GS.GAMELIST",
                                    "3": "2019-01-01 00:00:00.0000000 +00:00",
                                    "4": "GS",
                                    "5": "3",
                                    "6": "GTA1",
                                    "7": "JAPAN",
                                    "8": "150.00",
                                    "9": "Tim"
                                },
                                {
                                    "0": "4",
                                    "1": "2019-01-01 00:00:00.0000000 +00:00",
                                    "2": "STAGE.GS.GAMELIST",
                                    "3": "2019-01-01 00:00:00.0000000 +00:00",
                                    "4": "GS",
                                    "5": "4",
                                    "6": "GTA1",
                                    "7": "JAPAN",
                                    "8": "150.00",
                                    "9": "Tim"
                                },
                                {
                                    "0": "5",
                                    "1": "2019-01-01 00:00:00.0000000 +00:00",
                                    "2": "STAGE.GS.GAMELIST",
                                    "3": "2019-01-01 00:00:00.0000000 +00:00",
                                    "4": "GS",
                                    "5": "5",
                                    "6": "GTA1",
                                    "7": "JAPAN",
                                    "8": "150.00",
                                    "9": "Tim"
                                }
                            ]
                        },
                        "text/html": "<table><tr><th>SEQUENCE_NO</th><th>SESSION_DTS</th><th>Fully_Qualified_File_Name</th><th>FILE_TRANSFER_DTS</th><th>REC_SRC</th><th>ID</th><th>Game name</th><th>AREA</th><th>PRICE</th><th>Operator</th></tr><tr><td>1</td><td>2019-01-01 00:00:00.0000000 +00:00</td><td>STAGE.GS.GAMELIST</td><td>2019-01-01 00:00:00.0000000 +00:00</td><td>GS</td><td>1</td><td>GTA1</td><td>JAPAN</td><td>150.00</td><td>Tim</td></tr><tr><td>2</td><td>2019-01-01 00:00:00.0000000 +00:00</td><td>STAGE.GS.GAMELIST</td><td>2019-01-01 00:00:00.0000000 +00:00</td><td>GS</td><td>2</td><td>GTA1</td><td>JAPAN</td><td>150.00</td><td>Tim</td></tr><tr><td>3</td><td>2019-01-01 00:00:00.0000000 +00:00</td><td>STAGE.GS.GAMELIST</td><td>2019-01-01 00:00:00.0000000 +00:00</td><td>GS</td><td>3</td><td>GTA1</td><td>JAPAN</td><td>150.00</td><td>Tim</td></tr><tr><td>4</td><td>2019-01-01 00:00:00.0000000 +00:00</td><td>STAGE.GS.GAMELIST</td><td>2019-01-01 00:00:00.0000000 +00:00</td><td>GS</td><td>4</td><td>GTA1</td><td>JAPAN</td><td>150.00</td><td>Tim</td></tr><tr><td>5</td><td>2019-01-01 00:00:00.0000000 +00:00</td><td>STAGE.GS.GAMELIST</td><td>2019-01-01 00:00:00.0000000 +00:00</td><td>GS</td><td>5</td><td>GTA1</td><td>JAPAN</td><td>150.00</td><td>Tim</td></tr></table>"
                    }
                },
                {
                    "output_type": "execute_result",
                    "metadata": {},
                    "execution_count": 6,
                    "data": {
                        "application/vnd.dataresource+json": {
                            "schema": {
                                "fields": [
                                    {
                                        "name": "LOAD_DTS"
                                    },
                                    {
                                        "name": "LOAD_DTS_BATCH"
                                    },
                                    {
                                        "name": "SEQUENCE_NO"
                                    },
                                    {
                                        "name": "CDC_OPERATION_CODE"
                                    },
                                    {
                                        "name": "RECORD_SOURCE"
                                    },
                                    {
                                        "name": "FULLY_QUALIFIED_FILE_NAME"
                                    },
                                    {
                                        "name": "INSERT_DTS"
                                    },
                                    {
                                        "name": "UPDATE_DTS"
                                    },
                                    {
                                        "name": "EXPORT_DTS"
                                    },
                                    {
                                        "name": "FILE_TRANSFER_DTS"
                                    },
                                    {
                                        "name": "SESSION_DTS"
                                    },
                                    {
                                        "name": "SOURCE_SLICE_DTS"
                                    },
                                    {
                                        "name": "LOAD_TYPE"
                                    },
                                    {
                                        "name": "HK"
                                    },
                                    {
                                        "name": "HD"
                                    },
                                    {
                                        "name": "HF"
                                    },
                                    {
                                        "name": "ID"
                                    },
                                    {
                                        "name": "Game name"
                                    },
                                    {
                                        "name": "AREA"
                                    },
                                    {
                                        "name": "PRICE"
                                    },
                                    {
                                        "name": "Operator"
                                    }
                                ]
                            },
                            "data": [
                                {
                                    "0": "2019-01-01 00:00:00.0000002 +08:00",
                                    "1": "2019-01-01 00:00:00.0000000 +08:00",
                                    "2": "2",
                                    "3": "I",
                                    "4": "GS",
                                    "5": "STAGE.GS.GAMELIST",
                                    "6": "NULL",
                                    "7": "NULL",
                                    "8": "NULL",
                                    "9": "2019-01-01 00:00:00.0000000 +00:00",
                                    "10": "2019-01-01 00:00:00.0000000 +00:00",
                                    "11": "NULL",
                                    "12": "FULL",
                                    "13": "1CAB7228C79848C5D982B409CCBED23C",
                                    "14": "732639775F4668E76DC1C8B444701256",
                                    "15": "F08FFD8C31BB4124A45C44DF76375497",
                                    "16": "2",
                                    "17": "GTA1",
                                    "18": "JAPAN",
                                    "19": "150.00",
                                    "20": "Tim"
                                },
                                {
                                    "0": "2019-01-01 00:00:00.0000001 +08:00",
                                    "1": "2019-01-01 00:00:00.0000000 +08:00",
                                    "2": "1",
                                    "3": "I",
                                    "4": "GS",
                                    "5": "STAGE.GS.GAMELIST",
                                    "6": "NULL",
                                    "7": "NULL",
                                    "8": "NULL",
                                    "9": "2019-01-01 00:00:00.0000000 +00:00",
                                    "10": "2019-01-01 00:00:00.0000000 +00:00",
                                    "11": "NULL",
                                    "12": "FULL",
                                    "13": "39D1743976C9CA178083EFDC0BF56FDB",
                                    "14": "732639775F4668E76DC1C8B444701256",
                                    "15": "8D3766E1DBDEF8E5AB32CFE6EDEF9413",
                                    "16": "1",
                                    "17": "GTA1",
                                    "18": "JAPAN",
                                    "19": "150.00",
                                    "20": "Tim"
                                },
                                {
                                    "0": "2019-01-01 00:00:00.0000004 +08:00",
                                    "1": "2019-01-01 00:00:00.0000000 +08:00",
                                    "2": "4",
                                    "3": "I",
                                    "4": "GS",
                                    "5": "STAGE.GS.GAMELIST",
                                    "6": "NULL",
                                    "7": "NULL",
                                    "8": "NULL",
                                    "9": "2019-01-01 00:00:00.0000000 +00:00",
                                    "10": "2019-01-01 00:00:00.0000000 +00:00",
                                    "11": "NULL",
                                    "12": "FULL",
                                    "13": "6556E720C7F287A5AF1DE21E10D5FC45",
                                    "14": "732639775F4668E76DC1C8B444701256",
                                    "15": "1925510E6703B5EF38008ED9BD43C078",
                                    "16": "4",
                                    "17": "GTA1",
                                    "18": "JAPAN",
                                    "19": "150.00",
                                    "20": "Tim"
                                },
                                {
                                    "0": "2019-01-01 00:00:00.0000005 +08:00",
                                    "1": "2019-01-01 00:00:00.0000000 +08:00",
                                    "2": "5",
                                    "3": "I",
                                    "4": "GS",
                                    "5": "STAGE.GS.GAMELIST",
                                    "6": "NULL",
                                    "7": "NULL",
                                    "8": "NULL",
                                    "9": "2019-01-01 00:00:00.0000000 +00:00",
                                    "10": "2019-01-01 00:00:00.0000000 +00:00",
                                    "11": "NULL",
                                    "12": "FULL",
                                    "13": "C3DD2E6A1FAF2FD229C3DEF59A350CC3",
                                    "14": "732639775F4668E76DC1C8B444701256",
                                    "15": "52457F457888C3FCFAEAB0293B4830AF",
                                    "16": "5",
                                    "17": "GTA1",
                                    "18": "JAPAN",
                                    "19": "150.00",
                                    "20": "Tim"
                                },
                                {
                                    "0": "2019-01-01 00:00:00.0000003 +08:00",
                                    "1": "2019-01-01 00:00:00.0000000 +08:00",
                                    "2": "3",
                                    "3": "I",
                                    "4": "GS",
                                    "5": "STAGE.GS.GAMELIST",
                                    "6": "NULL",
                                    "7": "NULL",
                                    "8": "NULL",
                                    "9": "2019-01-01 00:00:00.0000000 +00:00",
                                    "10": "2019-01-01 00:00:00.0000000 +00:00",
                                    "11": "NULL",
                                    "12": "FULL",
                                    "13": "ED87939E6CE3FE8E1D9B0CD917687B1A",
                                    "14": "732639775F4668E76DC1C8B444701256",
                                    "15": "67838C13C15AA5A920CF8E30AB94E41E",
                                    "16": "3",
                                    "17": "GTA1",
                                    "18": "JAPAN",
                                    "19": "150.00",
                                    "20": "Tim"
                                }
                            ]
                        },
                        "text/html": "<table><tr><th>LOAD_DTS</th><th>LOAD_DTS_BATCH</th><th>SEQUENCE_NO</th><th>CDC_OPERATION_CODE</th><th>RECORD_SOURCE</th><th>FULLY_QUALIFIED_FILE_NAME</th><th>INSERT_DTS</th><th>UPDATE_DTS</th><th>EXPORT_DTS</th><th>FILE_TRANSFER_DTS</th><th>SESSION_DTS</th><th>SOURCE_SLICE_DTS</th><th>LOAD_TYPE</th><th>HK</th><th>HD</th><th>HF</th><th>ID</th><th>Game name</th><th>AREA</th><th>PRICE</th><th>Operator</th></tr><tr><td>2019-01-01 00:00:00.0000002 +08:00</td><td>2019-01-01 00:00:00.0000000 +08:00</td><td>2</td><td>I</td><td>GS</td><td>STAGE.GS.GAMELIST</td><td>NULL</td><td>NULL</td><td>NULL</td><td>2019-01-01 00:00:00.0000000 +00:00</td><td>2019-01-01 00:00:00.0000000 +00:00</td><td>NULL</td><td>FULL</td><td>1CAB7228C79848C5D982B409CCBED23C</td><td>732639775F4668E76DC1C8B444701256</td><td>F08FFD8C31BB4124A45C44DF76375497</td><td>2</td><td>GTA1</td><td>JAPAN</td><td>150.00</td><td>Tim</td></tr><tr><td>2019-01-01 00:00:00.0000001 +08:00</td><td>2019-01-01 00:00:00.0000000 +08:00</td><td>1</td><td>I</td><td>GS</td><td>STAGE.GS.GAMELIST</td><td>NULL</td><td>NULL</td><td>NULL</td><td>2019-01-01 00:00:00.0000000 +00:00</td><td>2019-01-01 00:00:00.0000000 +00:00</td><td>NULL</td><td>FULL</td><td>39D1743976C9CA178083EFDC0BF56FDB</td><td>732639775F4668E76DC1C8B444701256</td><td>8D3766E1DBDEF8E5AB32CFE6EDEF9413</td><td>1</td><td>GTA1</td><td>JAPAN</td><td>150.00</td><td>Tim</td></tr><tr><td>2019-01-01 00:00:00.0000004 +08:00</td><td>2019-01-01 00:00:00.0000000 +08:00</td><td>4</td><td>I</td><td>GS</td><td>STAGE.GS.GAMELIST</td><td>NULL</td><td>NULL</td><td>NULL</td><td>2019-01-01 00:00:00.0000000 +00:00</td><td>2019-01-01 00:00:00.0000000 +00:00</td><td>NULL</td><td>FULL</td><td>6556E720C7F287A5AF1DE21E10D5FC45</td><td>732639775F4668E76DC1C8B444701256</td><td>1925510E6703B5EF38008ED9BD43C078</td><td>4</td><td>GTA1</td><td>JAPAN</td><td>150.00</td><td>Tim</td></tr><tr><td>2019-01-01 00:00:00.0000005 +08:00</td><td>2019-01-01 00:00:00.0000000 +08:00</td><td>5</td><td>I</td><td>GS</td><td>STAGE.GS.GAMELIST</td><td>NULL</td><td>NULL</td><td>NULL</td><td>2019-01-01 00:00:00.0000000 +00:00</td><td>2019-01-01 00:00:00.0000000 +00:00</td><td>NULL</td><td>FULL</td><td>C3DD2E6A1FAF2FD229C3DEF59A350CC3</td><td>732639775F4668E76DC1C8B444701256</td><td>52457F457888C3FCFAEAB0293B4830AF</td><td>5</td><td>GTA1</td><td>JAPAN</td><td>150.00</td><td>Tim</td></tr><tr><td>2019-01-01 00:00:00.0000003 +08:00</td><td>2019-01-01 00:00:00.0000000 +08:00</td><td>3</td><td>I</td><td>GS</td><td>STAGE.GS.GAMELIST</td><td>NULL</td><td>NULL</td><td>NULL</td><td>2019-01-01 00:00:00.0000000 +00:00</td><td>2019-01-01 00:00:00.0000000 +00:00</td><td>NULL</td><td>FULL</td><td>ED87939E6CE3FE8E1D9B0CD917687B1A</td><td>732639775F4668E76DC1C8B444701256</td><td>67838C13C15AA5A920CF8E30AB94E41E</td><td>3</td><td>GTA1</td><td>JAPAN</td><td>150.00</td><td>Tim</td></tr></table>"
                    }
                },
                {
                    "output_type": "execute_result",
                    "metadata": {},
                    "execution_count": 6,
                    "data": {
                        "application/vnd.dataresource+json": {
                            "schema": {
                                "fields": [
                                    {
                                        "name": "LOAD_DTS"
                                    },
                                    {
                                        "name": "LOAD_DTS_BATCH"
                                    },
                                    {
                                        "name": "SEQUENCE_NO"
                                    },
                                    {
                                        "name": "CDC_OPERATION_CODE"
                                    },
                                    {
                                        "name": "RECORD_SOURCE"
                                    },
                                    {
                                        "name": "FULLY_QUALIFIED_FILE_NAME"
                                    },
                                    {
                                        "name": "INSERT_DTS"
                                    },
                                    {
                                        "name": "UPDATE_DTS"
                                    },
                                    {
                                        "name": "EXPORT_DTS"
                                    },
                                    {
                                        "name": "FILE_TRANSFER_DTS"
                                    },
                                    {
                                        "name": "SESSION_DTS"
                                    },
                                    {
                                        "name": "SOURCE_SLICE_DTS"
                                    },
                                    {
                                        "name": "LOAD_TYPE"
                                    },
                                    {
                                        "name": "HK"
                                    },
                                    {
                                        "name": "HD"
                                    },
                                    {
                                        "name": "HF"
                                    },
                                    {
                                        "name": "ID"
                                    },
                                    {
                                        "name": "Game name"
                                    },
                                    {
                                        "name": "AREA"
                                    },
                                    {
                                        "name": "PRICE"
                                    },
                                    {
                                        "name": "Operator"
                                    }
                                ]
                            },
                            "data": [
                                {
                                    "0": "2019-01-01 00:00:00.0000002 +08:00",
                                    "1": "2019-01-01 00:00:00.0000000 +08:00",
                                    "2": "2",
                                    "3": "I",
                                    "4": "GS",
                                    "5": "STAGE.GS.GAMELIST",
                                    "6": "NULL",
                                    "7": "NULL",
                                    "8": "NULL",
                                    "9": "2019-01-01 00:00:00.0000000 +00:00",
                                    "10": "2019-01-01 00:00:00.0000000 +00:00",
                                    "11": "NULL",
                                    "12": "FULL",
                                    "13": "1CAB7228C79848C5D982B409CCBED23C",
                                    "14": "732639775F4668E76DC1C8B444701256",
                                    "15": "F08FFD8C31BB4124A45C44DF76375497",
                                    "16": "2",
                                    "17": "GTA1",
                                    "18": "JAPAN",
                                    "19": "150.00",
                                    "20": "Tim"
                                },
                                {
                                    "0": "2019-01-01 00:00:00.0000001 +08:00",
                                    "1": "2019-01-01 00:00:00.0000000 +08:00",
                                    "2": "1",
                                    "3": "I",
                                    "4": "GS",
                                    "5": "STAGE.GS.GAMELIST",
                                    "6": "NULL",
                                    "7": "NULL",
                                    "8": "NULL",
                                    "9": "2019-01-01 00:00:00.0000000 +00:00",
                                    "10": "2019-01-01 00:00:00.0000000 +00:00",
                                    "11": "NULL",
                                    "12": "FULL",
                                    "13": "39D1743976C9CA178083EFDC0BF56FDB",
                                    "14": "732639775F4668E76DC1C8B444701256",
                                    "15": "8D3766E1DBDEF8E5AB32CFE6EDEF9413",
                                    "16": "1",
                                    "17": "GTA1",
                                    "18": "JAPAN",
                                    "19": "150.00",
                                    "20": "Tim"
                                },
                                {
                                    "0": "2019-01-01 00:00:00.0000004 +08:00",
                                    "1": "2019-01-01 00:00:00.0000000 +08:00",
                                    "2": "4",
                                    "3": "I",
                                    "4": "GS",
                                    "5": "STAGE.GS.GAMELIST",
                                    "6": "NULL",
                                    "7": "NULL",
                                    "8": "NULL",
                                    "9": "2019-01-01 00:00:00.0000000 +00:00",
                                    "10": "2019-01-01 00:00:00.0000000 +00:00",
                                    "11": "NULL",
                                    "12": "FULL",
                                    "13": "6556E720C7F287A5AF1DE21E10D5FC45",
                                    "14": "732639775F4668E76DC1C8B444701256",
                                    "15": "1925510E6703B5EF38008ED9BD43C078",
                                    "16": "4",
                                    "17": "GTA1",
                                    "18": "JAPAN",
                                    "19": "150.00",
                                    "20": "Tim"
                                },
                                {
                                    "0": "2019-01-01 00:00:00.0000005 +08:00",
                                    "1": "2019-01-01 00:00:00.0000000 +08:00",
                                    "2": "5",
                                    "3": "I",
                                    "4": "GS",
                                    "5": "STAGE.GS.GAMELIST",
                                    "6": "NULL",
                                    "7": "NULL",
                                    "8": "NULL",
                                    "9": "2019-01-01 00:00:00.0000000 +00:00",
                                    "10": "2019-01-01 00:00:00.0000000 +00:00",
                                    "11": "NULL",
                                    "12": "FULL",
                                    "13": "C3DD2E6A1FAF2FD229C3DEF59A350CC3",
                                    "14": "732639775F4668E76DC1C8B444701256",
                                    "15": "52457F457888C3FCFAEAB0293B4830AF",
                                    "16": "5",
                                    "17": "GTA1",
                                    "18": "JAPAN",
                                    "19": "150.00",
                                    "20": "Tim"
                                },
                                {
                                    "0": "2019-01-01 00:00:00.0000003 +08:00",
                                    "1": "2019-01-01 00:00:00.0000000 +08:00",
                                    "2": "3",
                                    "3": "I",
                                    "4": "GS",
                                    "5": "STAGE.GS.GAMELIST",
                                    "6": "NULL",
                                    "7": "NULL",
                                    "8": "NULL",
                                    "9": "2019-01-01 00:00:00.0000000 +00:00",
                                    "10": "2019-01-01 00:00:00.0000000 +00:00",
                                    "11": "NULL",
                                    "12": "FULL",
                                    "13": "ED87939E6CE3FE8E1D9B0CD917687B1A",
                                    "14": "732639775F4668E76DC1C8B444701256",
                                    "15": "67838C13C15AA5A920CF8E30AB94E41E",
                                    "16": "3",
                                    "17": "GTA1",
                                    "18": "JAPAN",
                                    "19": "150.00",
                                    "20": "Tim"
                                }
                            ]
                        },
                        "text/html": "<table><tr><th>LOAD_DTS</th><th>LOAD_DTS_BATCH</th><th>SEQUENCE_NO</th><th>CDC_OPERATION_CODE</th><th>RECORD_SOURCE</th><th>FULLY_QUALIFIED_FILE_NAME</th><th>INSERT_DTS</th><th>UPDATE_DTS</th><th>EXPORT_DTS</th><th>FILE_TRANSFER_DTS</th><th>SESSION_DTS</th><th>SOURCE_SLICE_DTS</th><th>LOAD_TYPE</th><th>HK</th><th>HD</th><th>HF</th><th>ID</th><th>Game name</th><th>AREA</th><th>PRICE</th><th>Operator</th></tr><tr><td>2019-01-01 00:00:00.0000002 +08:00</td><td>2019-01-01 00:00:00.0000000 +08:00</td><td>2</td><td>I</td><td>GS</td><td>STAGE.GS.GAMELIST</td><td>NULL</td><td>NULL</td><td>NULL</td><td>2019-01-01 00:00:00.0000000 +00:00</td><td>2019-01-01 00:00:00.0000000 +00:00</td><td>NULL</td><td>FULL</td><td>1CAB7228C79848C5D982B409CCBED23C</td><td>732639775F4668E76DC1C8B444701256</td><td>F08FFD8C31BB4124A45C44DF76375497</td><td>2</td><td>GTA1</td><td>JAPAN</td><td>150.00</td><td>Tim</td></tr><tr><td>2019-01-01 00:00:00.0000001 +08:00</td><td>2019-01-01 00:00:00.0000000 +08:00</td><td>1</td><td>I</td><td>GS</td><td>STAGE.GS.GAMELIST</td><td>NULL</td><td>NULL</td><td>NULL</td><td>2019-01-01 00:00:00.0000000 +00:00</td><td>2019-01-01 00:00:00.0000000 +00:00</td><td>NULL</td><td>FULL</td><td>39D1743976C9CA178083EFDC0BF56FDB</td><td>732639775F4668E76DC1C8B444701256</td><td>8D3766E1DBDEF8E5AB32CFE6EDEF9413</td><td>1</td><td>GTA1</td><td>JAPAN</td><td>150.00</td><td>Tim</td></tr><tr><td>2019-01-01 00:00:00.0000004 +08:00</td><td>2019-01-01 00:00:00.0000000 +08:00</td><td>4</td><td>I</td><td>GS</td><td>STAGE.GS.GAMELIST</td><td>NULL</td><td>NULL</td><td>NULL</td><td>2019-01-01 00:00:00.0000000 +00:00</td><td>2019-01-01 00:00:00.0000000 +00:00</td><td>NULL</td><td>FULL</td><td>6556E720C7F287A5AF1DE21E10D5FC45</td><td>732639775F4668E76DC1C8B444701256</td><td>1925510E6703B5EF38008ED9BD43C078</td><td>4</td><td>GTA1</td><td>JAPAN</td><td>150.00</td><td>Tim</td></tr><tr><td>2019-01-01 00:00:00.0000005 +08:00</td><td>2019-01-01 00:00:00.0000000 +08:00</td><td>5</td><td>I</td><td>GS</td><td>STAGE.GS.GAMELIST</td><td>NULL</td><td>NULL</td><td>NULL</td><td>2019-01-01 00:00:00.0000000 +00:00</td><td>2019-01-01 00:00:00.0000000 +00:00</td><td>NULL</td><td>FULL</td><td>C3DD2E6A1FAF2FD229C3DEF59A350CC3</td><td>732639775F4668E76DC1C8B444701256</td><td>52457F457888C3FCFAEAB0293B4830AF</td><td>5</td><td>GTA1</td><td>JAPAN</td><td>150.00</td><td>Tim</td></tr><tr><td>2019-01-01 00:00:00.0000003 +08:00</td><td>2019-01-01 00:00:00.0000000 +08:00</td><td>3</td><td>I</td><td>GS</td><td>STAGE.GS.GAMELIST</td><td>NULL</td><td>NULL</td><td>NULL</td><td>2019-01-01 00:00:00.0000000 +00:00</td><td>2019-01-01 00:00:00.0000000 +00:00</td><td>NULL</td><td>FULL</td><td>ED87939E6CE3FE8E1D9B0CD917687B1A</td><td>732639775F4668E76DC1C8B444701256</td><td>67838C13C15AA5A920CF8E30AB94E41E</td><td>3</td><td>GTA1</td><td>JAPAN</td><td>150.00</td><td>Tim</td></tr></table>"
                    }
                }
            ],
            "execution_count": 6
        }
    ]
}