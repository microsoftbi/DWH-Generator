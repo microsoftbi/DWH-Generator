{
    "metadata": {
        "kernelspec": {
            "name": "SQL",
            "display_name": "SQL",
            "language": "sql"
        },
        "language_info": {
            "name": "sql",
            "version": ""
        }
    },
    "nbformat_minor": 2,
    "nbformat": 4,
    "cells": [
        {
            "cell_type": "markdown",
            "source": [
                "First, to start the demo, below DB and their tables need to be deployed:\r\n",
                "STAGE\r\n",
                "META\r\n",
                "GAMESTORE\r\n",
                "\r\n",
                "After database and tables deployed, first load some data into OLTP tables"
            ],
            "metadata": {
                "azdata_cell_guid": "4d0a07b6-8041-472a-959e-067f591e72ed"
            }
        },
        {
            "cell_type": "code",
            "source": [
                "--Clean OLTP data.\r\n",
                "TRUNCATE TABLE GAMESTORE.DBO.GAMELIST\r\n",
                "TRUNCATE TABLE GAMESTORE.DBO.CUSTOMER\r\n",
                "TRUNCATE TABLE GAMESTORE.DBO.[ORDER]\r\n",
                "\r\n",
                "--Insert some testing data.\r\n",
                "INSERT INTO GAMESTORE.dbo.GAMELIST\r\n",
                "SELECT 1,'GTA1','JAPAN',20,1,1,1,1,1,'Sam','',''\r\n",
                "UNION ALL\r\n",
                "SELECT 2,'GTA2','JAPAN',60,1,1,1,1,1,'Sam','',''\r\n",
                "UNION ALL\r\n",
                "SELECT 3,'GTA3','KOREA',80,1,1,1,1,1,'Sam','',''\r\n",
                "UNION ALL\r\n",
                "SELECT 4,'GTA4','JAPAN',160,1,1,1,1,1,'Sam','',''\r\n",
                "UNION ALL\r\n",
                "SELECT 5,'GTA5','JAPAN',180,1,1,1,1,1,'Sam','',''\r\n",
                "\r\n",
                "\r\n",
                "INSERT INTO GAMESTORE.DBO.CUSTOMER\r\n",
                "SELECT 1,'Wade','1980-01-01', 1, 'China'\r\n",
                "UNION ALL\r\n",
                "SELECT 2,'James', '1981-01-01', 1, 'USA'\r\n",
                "UNION ALL\r\n",
                "SELECT 3, 'Wege', '1985-01-01', 1, 'Germany'\r\n",
                "\r\n",
                "\r\n",
                "INSERT INTO GAMESTORE.DBO.[ORDER]\r\n",
                "SELECT 1, '2010-01-01', 1, 2\r\n",
                "UNION ALL\r\n",
                "SELECT 2, '2010-02-01', 1, 3\r\n",
                "UNION ALL\r\n",
                "SELECT 3, '2010-01-01', 2, 1\r\n",
                "UNION ALL\r\n",
                "SELECT 4, '2010-01-02', 3, 2\r\n",
                "UNION ALL\r\n",
                "SELECT 5, '2010-02-03', 4, 3\r\n",
                "UNION ALL\r\n",
                "SELECT 6, '2010-01-01', 5, 1"
            ],
            "metadata": {
                "azdata_cell_guid": "79e8b992-d057-4274-972d-19d797fae2e1"
            },
            "outputs": [
                {
                    "output_type": "display_data",
                    "data": {
                        "text/html": "(5 rows affected)"
                    },
                    "metadata": {}
                },
                {
                    "output_type": "display_data",
                    "data": {
                        "text/html": "(3 rows affected)"
                    },
                    "metadata": {}
                },
                {
                    "output_type": "display_data",
                    "data": {
                        "text/html": "(6 rows affected)"
                    },
                    "metadata": {}
                },
                {
                    "output_type": "display_data",
                    "data": {
                        "text/html": "Total execution time: 00:00:00.010"
                    },
                    "metadata": {}
                }
            ],
            "execution_count": 10
        },
        {
            "cell_type": "markdown",
            "source": [
                "Then load META data."
            ],
            "metadata": {
                "azdata_cell_guid": "ff93d64b-0eba-40f5-8e71-f0d7434b4677"
            }
        },
        {
            "cell_type": "code",
            "source": [
                "TRUNCATE TABLE META.DBO.ATTRIBUTE\r\n",
                "\r\n",
                "INSERT INTO META.DBO.ATTRIBUTE\r\n",
                "(\r\n",
                "    TABLE_CATALOG,\r\n",
                "    TABLE_NAME,\r\n",
                "    COLUMN_NAME,\r\n",
                "    DATA_TYPE,\r\n",
                "    CHARACTER_MAXIMUM_LENGTH,\r\n",
                "    NUMERIC_PRECISION,\r\n",
                "    NUMERIC_SCALE\r\n",
                ")\r\n",
                "SELECT\r\n",
                "    TABLE_CATALOG,\r\n",
                "    TABLE_NAME,\r\n",
                "    COLUMN_NAME,\r\n",
                "    DATA_TYPE,\r\n",
                "    CHARACTER_MAXIMUM_LENGTH,\r\n",
                "    NUMERIC_PRECISION,\r\n",
                "    NUMERIC_SCALE\r\n",
                "FROM GAMESTORE.INFORMATION_SCHEMA.COLUMNS"
            ],
            "metadata": {
                "azdata_cell_guid": "c971ac5a-abe3-4b39-ab2f-ec07e508b7ec"
            },
            "outputs": [],
            "execution_count": 0
        },
        {
            "cell_type": "markdown",
            "source": [
                "Then need to manual modify the meta data config, to tell system which is BK, PK and DI.\r\n",
                "So after changed META should be as below:"
            ],
            "metadata": {
                "azdata_cell_guid": "53f9ed76-d670-4d74-b8b8-cfea29a81718"
            }
        },
        {
            "cell_type": "code",
            "source": [
                "USE [META]\r\n",
                "GO\r\n",
                "SET IDENTITY_INSERT [dbo].[ATTRIBUTE] ON \r\n",
                "GO\r\n",
                "INSERT [dbo].[ATTRIBUTE] ([ID], [TABLE_CATALOG], [TABLE_NAME], [COLUMN_NAME], [DATA_TYPE], [CHARACTER_MAXIMUM_LENGTH], [NUMERIC_PRECISION], [NUMERIC_SCALE], [BK], [PK], [DI], [DVID]) VALUES (1, N'GAMESTORE', N'GAMELIST', N'ID', N'int', NULL, 10, 0, 1, 1, NULL, NULL)\r\n",
                "GO\r\n",
                "INSERT [dbo].[ATTRIBUTE] ([ID], [TABLE_CATALOG], [TABLE_NAME], [COLUMN_NAME], [DATA_TYPE], [CHARACTER_MAXIMUM_LENGTH], [NUMERIC_PRECISION], [NUMERIC_SCALE], [BK], [PK], [DI], [DVID]) VALUES (2, N'GAMESTORE', N'GAMELIST', N'Game name', N'nvarchar', 50, NULL, NULL, NULL, NULL, 1, NULL)\r\n",
                "GO\r\n",
                "INSERT [dbo].[ATTRIBUTE] ([ID], [TABLE_CATALOG], [TABLE_NAME], [COLUMN_NAME], [DATA_TYPE], [CHARACTER_MAXIMUM_LENGTH], [NUMERIC_PRECISION], [NUMERIC_SCALE], [BK], [PK], [DI], [DVID]) VALUES (3, N'GAMESTORE', N'GAMELIST', N'AREA', N'nvarchar', 20, NULL, NULL, NULL, NULL, 1, NULL)\r\n",
                "GO\r\n",
                "INSERT [dbo].[ATTRIBUTE] ([ID], [TABLE_CATALOG], [TABLE_NAME], [COLUMN_NAME], [DATA_TYPE], [CHARACTER_MAXIMUM_LENGTH], [NUMERIC_PRECISION], [NUMERIC_SCALE], [BK], [PK], [DI], [DVID]) VALUES (4, N'GAMESTORE', N'GAMELIST', N'PRICE', N'decimal', NULL, 10, 2, NULL, NULL, 1, NULL)\r\n",
                "GO\r\n",
                "INSERT [dbo].[ATTRIBUTE] ([ID], [TABLE_CATALOG], [TABLE_NAME], [COLUMN_NAME], [DATA_TYPE], [CHARACTER_MAXIMUM_LENGTH], [NUMERIC_PRECISION], [NUMERIC_SCALE], [BK], [PK], [DI], [DVID]) VALUES (5, N'GAMESTORE', N'GAMELIST', N'FLAG01', N'int', NULL, 10, 0, NULL, NULL, 1, NULL)\r\n",
                "GO\r\n",
                "INSERT [dbo].[ATTRIBUTE] ([ID], [TABLE_CATALOG], [TABLE_NAME], [COLUMN_NAME], [DATA_TYPE], [CHARACTER_MAXIMUM_LENGTH], [NUMERIC_PRECISION], [NUMERIC_SCALE], [BK], [PK], [DI], [DVID]) VALUES (6, N'GAMESTORE', N'GAMELIST', N'FLAG02', N'int', NULL, 10, 0, NULL, NULL, NULL, NULL)\r\n",
                "GO\r\n",
                "INSERT [dbo].[ATTRIBUTE] ([ID], [TABLE_CATALOG], [TABLE_NAME], [COLUMN_NAME], [DATA_TYPE], [CHARACTER_MAXIMUM_LENGTH], [NUMERIC_PRECISION], [NUMERIC_SCALE], [BK], [PK], [DI], [DVID]) VALUES (7, N'GAMESTORE', N'GAMELIST', N'FLAG03', N'int', NULL, 10, 0, NULL, NULL, NULL, NULL)\r\n",
                "GO\r\n",
                "INSERT [dbo].[ATTRIBUTE] ([ID], [TABLE_CATALOG], [TABLE_NAME], [COLUMN_NAME], [DATA_TYPE], [CHARACTER_MAXIMUM_LENGTH], [NUMERIC_PRECISION], [NUMERIC_SCALE], [BK], [PK], [DI], [DVID]) VALUES (8, N'GAMESTORE', N'GAMELIST', N'FLAG04', N'int', NULL, 10, 0, NULL, NULL, NULL, NULL)\r\n",
                "GO\r\n",
                "INSERT [dbo].[ATTRIBUTE] ([ID], [TABLE_CATALOG], [TABLE_NAME], [COLUMN_NAME], [DATA_TYPE], [CHARACTER_MAXIMUM_LENGTH], [NUMERIC_PRECISION], [NUMERIC_SCALE], [BK], [PK], [DI], [DVID]) VALUES (9, N'GAMESTORE', N'GAMELIST', N'FLAG05', N'int', NULL, 10, 0, NULL, NULL, NULL, NULL)\r\n",
                "GO\r\n",
                "INSERT [dbo].[ATTRIBUTE] ([ID], [TABLE_CATALOG], [TABLE_NAME], [COLUMN_NAME], [DATA_TYPE], [CHARACTER_MAXIMUM_LENGTH], [NUMERIC_PRECISION], [NUMERIC_SCALE], [BK], [PK], [DI], [DVID]) VALUES (10, N'GAMESTORE', N'GAMELIST', N'Operator', N'nvarchar', 20, NULL, NULL, NULL, NULL, 1, NULL)\r\n",
                "GO\r\n",
                "INSERT [dbo].[ATTRIBUTE] ([ID], [TABLE_CATALOG], [TABLE_NAME], [COLUMN_NAME], [DATA_TYPE], [CHARACTER_MAXIMUM_LENGTH], [NUMERIC_PRECISION], [NUMERIC_SCALE], [BK], [PK], [DI], [DVID]) VALUES (11, N'GAMESTORE', N'GAMELIST', N'AREA_HTR', N'nvarchar', 50, NULL, NULL, NULL, NULL, NULL, NULL)\r\n",
                "GO\r\n",
                "INSERT [dbo].[ATTRIBUTE] ([ID], [TABLE_CATALOG], [TABLE_NAME], [COLUMN_NAME], [DATA_TYPE], [CHARACTER_MAXIMUM_LENGTH], [NUMERIC_PRECISION], [NUMERIC_SCALE], [BK], [PK], [DI], [DVID]) VALUES (12, N'GAMESTORE', N'GAMELIST', N'PRICE_HTR', N'nvarchar', 50, NULL, NULL, NULL, NULL, NULL, NULL)\r\n",
                "GO\r\n",
                "INSERT [dbo].[ATTRIBUTE] ([ID], [TABLE_CATALOG], [TABLE_NAME], [COLUMN_NAME], [DATA_TYPE], [CHARACTER_MAXIMUM_LENGTH], [NUMERIC_PRECISION], [NUMERIC_SCALE], [BK], [PK], [DI], [DVID]) VALUES (13, N'GAMESTORE', N'CUSTOMER', N'CustomerID', N'int', NULL, 10, 0, 1, 1, NULL, NULL)\r\n",
                "GO\r\n",
                "INSERT [dbo].[ATTRIBUTE] ([ID], [TABLE_CATALOG], [TABLE_NAME], [COLUMN_NAME], [DATA_TYPE], [CHARACTER_MAXIMUM_LENGTH], [NUMERIC_PRECISION], [NUMERIC_SCALE], [BK], [PK], [DI], [DVID]) VALUES (14, N'GAMESTORE', N'CUSTOMER', N'CustomerName', N'nvarchar', 30, NULL, NULL, NULL, NULL, 1, NULL)\r\n",
                "GO\r\n",
                "INSERT [dbo].[ATTRIBUTE] ([ID], [TABLE_CATALOG], [TABLE_NAME], [COLUMN_NAME], [DATA_TYPE], [CHARACTER_MAXIMUM_LENGTH], [NUMERIC_PRECISION], [NUMERIC_SCALE], [BK], [PK], [DI], [DVID]) VALUES (15, N'GAMESTORE', N'CUSTOMER', N'Birth', N'date', NULL, NULL, NULL, NULL, NULL, 1, NULL)\r\n",
                "GO\r\n",
                "INSERT [dbo].[ATTRIBUTE] ([ID], [TABLE_CATALOG], [TABLE_NAME], [COLUMN_NAME], [DATA_TYPE], [CHARACTER_MAXIMUM_LENGTH], [NUMERIC_PRECISION], [NUMERIC_SCALE], [BK], [PK], [DI], [DVID]) VALUES (16, N'GAMESTORE', N'CUSTOMER', N'Gender', N'int', NULL, 10, 0, NULL, NULL, 1, NULL)\r\n",
                "GO\r\n",
                "INSERT [dbo].[ATTRIBUTE] ([ID], [TABLE_CATALOG], [TABLE_NAME], [COLUMN_NAME], [DATA_TYPE], [CHARACTER_MAXIMUM_LENGTH], [NUMERIC_PRECISION], [NUMERIC_SCALE], [BK], [PK], [DI], [DVID]) VALUES (17, N'GAMESTORE', N'CUSTOMER', N'Address', N'nvarchar', 50, NULL, NULL, NULL, NULL, 1, NULL)\r\n",
                "GO\r\n",
                "INSERT [dbo].[ATTRIBUTE] ([ID], [TABLE_CATALOG], [TABLE_NAME], [COLUMN_NAME], [DATA_TYPE], [CHARACTER_MAXIMUM_LENGTH], [NUMERIC_PRECISION], [NUMERIC_SCALE], [BK], [PK], [DI], [DVID]) VALUES (18, N'GAMESTORE', N'ORDER', N'ORDERID', N'int', NULL, 10, 0, 1, 1, NULL, NULL)\r\n",
                "GO\r\n",
                "INSERT [dbo].[ATTRIBUTE] ([ID], [TABLE_CATALOG], [TABLE_NAME], [COLUMN_NAME], [DATA_TYPE], [CHARACTER_MAXIMUM_LENGTH], [NUMERIC_PRECISION], [NUMERIC_SCALE], [BK], [PK], [DI], [DVID]) VALUES (19, N'GAMESTORE', N'ORDER', N'ORDERDATE', N'date', NULL, NULL, NULL, NULL, NULL, 1, NULL)\r\n",
                "GO\r\n",
                "INSERT [dbo].[ATTRIBUTE] ([ID], [TABLE_CATALOG], [TABLE_NAME], [COLUMN_NAME], [DATA_TYPE], [CHARACTER_MAXIMUM_LENGTH], [NUMERIC_PRECISION], [NUMERIC_SCALE], [BK], [PK], [DI], [DVID]) VALUES (20, N'GAMESTORE', N'ORDER', N'GAMEID', N'int', NULL, 10, 0, NULL, NULL, 1, NULL)\r\n",
                "GO\r\n",
                "INSERT [dbo].[ATTRIBUTE] ([ID], [TABLE_CATALOG], [TABLE_NAME], [COLUMN_NAME], [DATA_TYPE], [CHARACTER_MAXIMUM_LENGTH], [NUMERIC_PRECISION], [NUMERIC_SCALE], [BK], [PK], [DI], [DVID]) VALUES (21, N'GAMESTORE', N'ORDER', N'CUSTOMERID', N'int', NULL, 10, 0, NULL, NULL, 1, NULL)\r\n",
                "GO\r\n",
                "SET IDENTITY_INSERT [dbo].[ATTRIBUTE] OFF\r\n",
                "GO\r\n",
                ""
            ],
            "metadata": {
                "azdata_cell_guid": "e02491f0-9879-4001-861c-ec299dea70ad"
            },
            "outputs": [],
            "execution_count": 0
        },
        {
            "cell_type": "markdown",
            "source": [
                "Then we can go to to generate for PSA scripts."
            ],
            "metadata": {
                "azdata_cell_guid": "f0de4948-f1a8-40f1-9b92-8d739d17ef55"
            }
        },
        {
            "cell_type": "markdown",
            "source": [
                "First load data from source to stage."
            ],
            "metadata": {
                "azdata_cell_guid": "22fee020-dfb9-4144-b9ea-eb631b91f175"
            }
        },
        {
            "cell_type": "code",
            "source": [
                "--\r\n",
                "TRUNCATE TABLE STAGE.[dbo].GAMELIST\r\n",
                "\r\n",
                "INSERT INTO STAGE.[dbo].GAMELIST\r\n",
                "(\r\n",
                "\t[ID]\r\n",
                "\t,[Game name]\r\n",
                "\t,[AREA]\r\n",
                "\t,[PRICE]\r\n",
                "\t,[FLAG01]\r\n",
                "\t,[Operator]\r\n",
                ")\r\n",
                "SELECT \r\n",
                "\t[ID]\r\n",
                "\t,[Game name]\r\n",
                "\t,[AREA]\r\n",
                "\t,[PRICE]\r\n",
                "\t,[FLAG01]\r\n",
                "\t,[Operator]\r\n",
                "FROM GAMESTORE.dbo.GAMELIST\r\n",
                "\r\n",
                "--\r\n",
                "TRUNCATE TABLE STAGE.[dbo].[CUSTOMER]\r\n",
                "\r\n",
                "INSERT INTO STAGE.[dbo].[CUSTOMER]\r\n",
                "SELECT * FROM GAMESTORE.dbo.CUSTOMER\r\n",
                "\r\n",
                "--\r\n",
                "TRUNCATE TABLE STAGE.[dbo].[ORDER]\r\n",
                "\r\n",
                "INSERT INTO STAGE.[dbo].[ORDER]\r\n",
                "SELECT * FROM GAMESTORE.dbo.[ORDER]"
            ],
            "metadata": {
                "azdata_cell_guid": "28650996-954a-44a1-aa9b-9cb8f06aeab0"
            },
            "outputs": [
                {
                    "output_type": "display_data",
                    "data": {
                        "text/html": "(5 rows affected)"
                    },
                    "metadata": {}
                },
                {
                    "output_type": "display_data",
                    "data": {
                        "text/html": "(3 rows affected)"
                    },
                    "metadata": {}
                },
                {
                    "output_type": "display_data",
                    "data": {
                        "text/html": "(6 rows affected)"
                    },
                    "metadata": {}
                },
                {
                    "output_type": "display_data",
                    "data": {
                        "text/html": "Total execution time: 00:00:00.015"
                    },
                    "metadata": {}
                }
            ],
            "execution_count": 4
        },
        {
            "cell_type": "markdown",
            "source": [
                "Execute USPs"
            ],
            "metadata": {
                "azdata_cell_guid": "93f91feb-c082-43d2-b010-eff213ef4a20"
            }
        },
        {
            "cell_type": "code",
            "source": [
                "EXEC [dbo].[USP_GAMELIST_STG]\r\n",
                "EXEC [dbo].[USP_ORDER_STG]\r\n",
                "EXEC [dbo].[USP_CUSTOMER_STG]\r\n",
                "\r\n",
                "EXEC [dbo].[USP_GAMELIST_HIS]\r\n",
                "EXEC [dbo].[USP_ORDER_HIS]\r\n",
                "EXEC [dbo].[USP_CUSTOMER_HIS]"
            ],
            "metadata": {
                "azdata_cell_guid": "e1928210-6a30-4eea-b30c-f41ac38d5f6c"
            },
            "outputs": [],
            "execution_count": 0
        },
        {
            "cell_type": "markdown",
            "source": [
                "Then check the data"
            ],
            "metadata": {
                "azdata_cell_guid": "f79d1c46-4682-4c65-b960-414b0e339150"
            }
        },
        {
            "cell_type": "code",
            "source": [
                "SELECT * FROM [STAGE].[dbo].[GAMELIST]\r\n",
                "SELECT * FROM [STAGE].[dbo].[GAMELIST_STG]\r\n",
                "SELECT * FROM [STAGE].[dbo].[GAMELIST_HIS]"
            ],
            "metadata": {
                "azdata_cell_guid": "3af9fb10-c3a0-4a86-83c1-ed817396d9a4"
            },
            "outputs": [
                {
                    "output_type": "display_data",
                    "data": {
                        "text/html": "(5 rows affected)"
                    },
                    "metadata": {}
                },
                {
                    "output_type": "display_data",
                    "data": {
                        "text/html": "(5 rows affected)"
                    },
                    "metadata": {}
                },
                {
                    "output_type": "display_data",
                    "data": {
                        "text/html": "(5 rows affected)"
                    },
                    "metadata": {}
                },
                {
                    "output_type": "display_data",
                    "data": {
                        "text/html": "Total execution time: 00:00:00.113"
                    },
                    "metadata": {}
                },
                {
                    "output_type": "execute_result",
                    "metadata": {},
                    "execution_count": 5,
                    "data": {
                        "application/vnd.dataresource+json": {
                            "schema": {
                                "fields": [
                                    {
                                        "name": "ID"
                                    },
                                    {
                                        "name": "Game name"
                                    },
                                    {
                                        "name": "AREA"
                                    },
                                    {
                                        "name": "PRICE"
                                    },
                                    {
                                        "name": "FLAG01"
                                    },
                                    {
                                        "name": "Operator"
                                    }
                                ]
                            },
                            "data": [
                                {
                                    "0": "1",
                                    "1": "GTA1",
                                    "2": "JAPAN",
                                    "3": "20.00",
                                    "4": "1",
                                    "5": "Sam"
                                },
                                {
                                    "0": "2",
                                    "1": "GTA2",
                                    "2": "JAPAN",
                                    "3": "60.00",
                                    "4": "1",
                                    "5": "Sam"
                                },
                                {
                                    "0": "3",
                                    "1": "GTA3",
                                    "2": "KOREA",
                                    "3": "80.00",
                                    "4": "1",
                                    "5": "Sam"
                                },
                                {
                                    "0": "4",
                                    "1": "GTA4",
                                    "2": "JAPAN",
                                    "3": "160.00",
                                    "4": "1",
                                    "5": "Sam"
                                },
                                {
                                    "0": "5",
                                    "1": "GTA5",
                                    "2": "JAPAN",
                                    "3": "180.00",
                                    "4": "1",
                                    "5": "Sam"
                                }
                            ]
                        },
                        "text/html": "<table><tr><th>ID</th><th>Game name</th><th>AREA</th><th>PRICE</th><th>FLAG01</th><th>Operator</th></tr><tr><td>1</td><td>GTA1</td><td>JAPAN</td><td>20.00</td><td>1</td><td>Sam</td></tr><tr><td>2</td><td>GTA2</td><td>JAPAN</td><td>60.00</td><td>1</td><td>Sam</td></tr><tr><td>3</td><td>GTA3</td><td>KOREA</td><td>80.00</td><td>1</td><td>Sam</td></tr><tr><td>4</td><td>GTA4</td><td>JAPAN</td><td>160.00</td><td>1</td><td>Sam</td></tr><tr><td>5</td><td>GTA5</td><td>JAPAN</td><td>180.00</td><td>1</td><td>Sam</td></tr></table>"
                    }
                },
                {
                    "output_type": "execute_result",
                    "metadata": {},
                    "execution_count": 5,
                    "data": {
                        "application/vnd.dataresource+json": {
                            "schema": {
                                "fields": [
                                    {
                                        "name": "ID"
                                    },
                                    {
                                        "name": "Game name"
                                    },
                                    {
                                        "name": "AREA"
                                    },
                                    {
                                        "name": "PRICE"
                                    },
                                    {
                                        "name": "FLAG01"
                                    },
                                    {
                                        "name": "Operator"
                                    },
                                    {
                                        "name": "HD"
                                    },
                                    {
                                        "name": "INSERT TIME"
                                    }
                                ]
                            },
                            "data": [
                                {
                                    "0": "1",
                                    "1": "GTA1",
                                    "2": "JAPAN",
                                    "3": "20.00",
                                    "4": "1",
                                    "5": "Sam",
                                    "6": "641252F2B103F64EB2A49E09D549139E",
                                    "7": "2019-11-18 17:05:53.220"
                                },
                                {
                                    "0": "2",
                                    "1": "GTA2",
                                    "2": "JAPAN",
                                    "3": "60.00",
                                    "4": "1",
                                    "5": "Sam",
                                    "6": "05FF0DC637E681D853261CF5A231FE35",
                                    "7": "2019-11-18 17:05:53.220"
                                },
                                {
                                    "0": "3",
                                    "1": "GTA3",
                                    "2": "KOREA",
                                    "3": "80.00",
                                    "4": "1",
                                    "5": "Sam",
                                    "6": "B1F848471204E9B0F84C0A08679A7CEB",
                                    "7": "2019-11-18 17:05:53.220"
                                },
                                {
                                    "0": "4",
                                    "1": "GTA4",
                                    "2": "JAPAN",
                                    "3": "160.00",
                                    "4": "1",
                                    "5": "Sam",
                                    "6": "3C569CDAEA51F7A8886DFB93C2EC4341",
                                    "7": "2019-11-18 17:05:53.220"
                                },
                                {
                                    "0": "5",
                                    "1": "GTA5",
                                    "2": "JAPAN",
                                    "3": "180.00",
                                    "4": "1",
                                    "5": "Sam",
                                    "6": "3311FEA2EBFB765CAAFBDDE22317D93A",
                                    "7": "2019-11-18 17:05:53.220"
                                }
                            ]
                        },
                        "text/html": "<table><tr><th>ID</th><th>Game name</th><th>AREA</th><th>PRICE</th><th>FLAG01</th><th>Operator</th><th>HD</th><th>INSERT TIME</th></tr><tr><td>1</td><td>GTA1</td><td>JAPAN</td><td>20.00</td><td>1</td><td>Sam</td><td>641252F2B103F64EB2A49E09D549139E</td><td>2019-11-18 17:05:53.220</td></tr><tr><td>2</td><td>GTA2</td><td>JAPAN</td><td>60.00</td><td>1</td><td>Sam</td><td>05FF0DC637E681D853261CF5A231FE35</td><td>2019-11-18 17:05:53.220</td></tr><tr><td>3</td><td>GTA3</td><td>KOREA</td><td>80.00</td><td>1</td><td>Sam</td><td>B1F848471204E9B0F84C0A08679A7CEB</td><td>2019-11-18 17:05:53.220</td></tr><tr><td>4</td><td>GTA4</td><td>JAPAN</td><td>160.00</td><td>1</td><td>Sam</td><td>3C569CDAEA51F7A8886DFB93C2EC4341</td><td>2019-11-18 17:05:53.220</td></tr><tr><td>5</td><td>GTA5</td><td>JAPAN</td><td>180.00</td><td>1</td><td>Sam</td><td>3311FEA2EBFB765CAAFBDDE22317D93A</td><td>2019-11-18 17:05:53.220</td></tr></table>"
                    }
                },
                {
                    "output_type": "execute_result",
                    "metadata": {},
                    "execution_count": 5,
                    "data": {
                        "application/vnd.dataresource+json": {
                            "schema": {
                                "fields": [
                                    {
                                        "name": "ID"
                                    },
                                    {
                                        "name": "Game name"
                                    },
                                    {
                                        "name": "AREA"
                                    },
                                    {
                                        "name": "PRICE"
                                    },
                                    {
                                        "name": "FLAG01"
                                    },
                                    {
                                        "name": "Operator"
                                    },
                                    {
                                        "name": "HD"
                                    },
                                    {
                                        "name": "INSERT TIME"
                                    },
                                    {
                                        "name": "VALID FROM"
                                    },
                                    {
                                        "name": "VALID TO"
                                    },
                                    {
                                        "name": "IS CURRENT"
                                    }
                                ]
                            },
                            "data": [
                                {
                                    "0": "1",
                                    "1": "GTA1",
                                    "2": "JAPAN",
                                    "3": "20.00",
                                    "4": "1",
                                    "5": "Sam",
                                    "6": "641252F2B103F64EB2A49E09D549139E",
                                    "7": "2019-11-18 17:05:53.237",
                                    "8": "2019-11-18 17:05:53.237",
                                    "9": "2199-12-31 00:00:00.000",
                                    "10": "1"
                                },
                                {
                                    "0": "2",
                                    "1": "GTA2",
                                    "2": "JAPAN",
                                    "3": "60.00",
                                    "4": "1",
                                    "5": "Sam",
                                    "6": "05FF0DC637E681D853261CF5A231FE35",
                                    "7": "2019-11-18 17:05:53.237",
                                    "8": "2019-11-18 17:05:53.237",
                                    "9": "2199-12-31 00:00:00.000",
                                    "10": "1"
                                },
                                {
                                    "0": "3",
                                    "1": "GTA3",
                                    "2": "KOREA",
                                    "3": "80.00",
                                    "4": "1",
                                    "5": "Sam",
                                    "6": "B1F848471204E9B0F84C0A08679A7CEB",
                                    "7": "2019-11-18 17:05:53.237",
                                    "8": "2019-11-18 17:05:53.237",
                                    "9": "2199-12-31 00:00:00.000",
                                    "10": "1"
                                },
                                {
                                    "0": "4",
                                    "1": "GTA4",
                                    "2": "JAPAN",
                                    "3": "160.00",
                                    "4": "1",
                                    "5": "Sam",
                                    "6": "3C569CDAEA51F7A8886DFB93C2EC4341",
                                    "7": "2019-11-18 17:05:53.237",
                                    "8": "2019-11-18 17:05:53.237",
                                    "9": "2199-12-31 00:00:00.000",
                                    "10": "1"
                                },
                                {
                                    "0": "5",
                                    "1": "GTA5",
                                    "2": "JAPAN",
                                    "3": "180.00",
                                    "4": "1",
                                    "5": "Sam",
                                    "6": "3311FEA2EBFB765CAAFBDDE22317D93A",
                                    "7": "2019-11-18 17:05:53.237",
                                    "8": "2019-11-18 17:05:53.237",
                                    "9": "2199-12-31 00:00:00.000",
                                    "10": "1"
                                }
                            ]
                        },
                        "text/html": "<table><tr><th>ID</th><th>Game name</th><th>AREA</th><th>PRICE</th><th>FLAG01</th><th>Operator</th><th>HD</th><th>INSERT TIME</th><th>VALID FROM</th><th>VALID TO</th><th>IS CURRENT</th></tr><tr><td>1</td><td>GTA1</td><td>JAPAN</td><td>20.00</td><td>1</td><td>Sam</td><td>641252F2B103F64EB2A49E09D549139E</td><td>2019-11-18 17:05:53.237</td><td>2019-11-18 17:05:53.237</td><td>2199-12-31 00:00:00.000</td><td>1</td></tr><tr><td>2</td><td>GTA2</td><td>JAPAN</td><td>60.00</td><td>1</td><td>Sam</td><td>05FF0DC637E681D853261CF5A231FE35</td><td>2019-11-18 17:05:53.237</td><td>2019-11-18 17:05:53.237</td><td>2199-12-31 00:00:00.000</td><td>1</td></tr><tr><td>3</td><td>GTA3</td><td>KOREA</td><td>80.00</td><td>1</td><td>Sam</td><td>B1F848471204E9B0F84C0A08679A7CEB</td><td>2019-11-18 17:05:53.237</td><td>2019-11-18 17:05:53.237</td><td>2199-12-31 00:00:00.000</td><td>1</td></tr><tr><td>4</td><td>GTA4</td><td>JAPAN</td><td>160.00</td><td>1</td><td>Sam</td><td>3C569CDAEA51F7A8886DFB93C2EC4341</td><td>2019-11-18 17:05:53.237</td><td>2019-11-18 17:05:53.237</td><td>2199-12-31 00:00:00.000</td><td>1</td></tr><tr><td>5</td><td>GTA5</td><td>JAPAN</td><td>180.00</td><td>1</td><td>Sam</td><td>3311FEA2EBFB765CAAFBDDE22317D93A</td><td>2019-11-18 17:05:53.237</td><td>2019-11-18 17:05:53.237</td><td>2199-12-31 00:00:00.000</td><td>1</td></tr></table>"
                    }
                }
            ],
            "execution_count": 5
        },
        {
            "cell_type": "markdown",
            "source": [
                "Then we update something in GAMELIST source table."
            ],
            "metadata": {
                "azdata_cell_guid": "51056860-1ef8-4015-a1fb-f7cd781bca4a"
            }
        },
        {
            "cell_type": "code",
            "source": [
                "UPDATE STAGE.[dbo].[GAMELIST] SET AREA='JAPAN' WHERE ID=3"
            ],
            "metadata": {
                "azdata_cell_guid": "5f9e3855-0070-4573-8970-baa8073a62ec"
            },
            "outputs": [
                {
                    "output_type": "display_data",
                    "data": {
                        "text/html": "(1 row affected)"
                    },
                    "metadata": {}
                },
                {
                    "output_type": "display_data",
                    "data": {
                        "text/html": "Total execution time: 00:00:00.011"
                    },
                    "metadata": {}
                }
            ],
            "execution_count": 7
        },
        {
            "cell_type": "markdown",
            "source": [
                "Then run USPs for the table."
            ],
            "metadata": {
                "azdata_cell_guid": "c1c72db1-b861-4d45-b725-fb45daf49f48"
            }
        },
        {
            "cell_type": "code",
            "source": [
                "EXEC STAGE.[dbo].[USP_GAMELIST_STG]\r\n",
                "\r\n",
                "EXEC STAGE.[dbo].[USP_GAMELIST_HIS]\r\n",
                ""
            ],
            "metadata": {
                "azdata_cell_guid": "e845096c-9c10-4629-8351-45cd3dbc9482"
            },
            "outputs": [
                {
                    "output_type": "display_data",
                    "data": {
                        "text/html": "(1 row affected)"
                    },
                    "metadata": {}
                },
                {
                    "output_type": "display_data",
                    "data": {
                        "text/html": "(5 rows affected)"
                    },
                    "metadata": {}
                },
                {
                    "output_type": "display_data",
                    "data": {
                        "text/html": "(1 row affected)"
                    },
                    "metadata": {}
                },
                {
                    "output_type": "display_data",
                    "data": {
                        "text/html": "(1 row affected)"
                    },
                    "metadata": {}
                },
                {
                    "output_type": "display_data",
                    "data": {
                        "text/html": "(1 row affected)"
                    },
                    "metadata": {}
                },
                {
                    "output_type": "display_data",
                    "data": {
                        "text/html": "Total execution time: 00:00:00.026"
                    },
                    "metadata": {}
                }
            ],
            "execution_count": 8
        },
        {
            "cell_type": "markdown",
            "source": [
                "Then check update rows.\r\n",
                "We can see for the updated row, new data inserted, and old row valid_to changed, and also IS_CURRENT filed updated."
            ],
            "metadata": {
                "azdata_cell_guid": "ba209d25-41db-41d2-9106-f7d5bc8da86b"
            }
        },
        {
            "cell_type": "code",
            "source": [
                "SELECT * FROM [STAGE].[dbo].[GAMELIST]\r\n",
                "SELECT * FROM [STAGE].[dbo].[GAMELIST_STG]\r\n",
                "SELECT * FROM [STAGE].[dbo].[GAMELIST_HIS]"
            ],
            "metadata": {
                "azdata_cell_guid": "8d50ce3d-4683-4ae5-b72e-a53858f471cf"
            },
            "outputs": [
                {
                    "output_type": "display_data",
                    "data": {
                        "text/html": "(5 rows affected)"
                    },
                    "metadata": {}
                },
                {
                    "output_type": "display_data",
                    "data": {
                        "text/html": "(5 rows affected)"
                    },
                    "metadata": {}
                },
                {
                    "output_type": "display_data",
                    "data": {
                        "text/html": "(6 rows affected)"
                    },
                    "metadata": {}
                },
                {
                    "output_type": "display_data",
                    "data": {
                        "text/html": "Total execution time: 00:00:00.037"
                    },
                    "metadata": {}
                },
                {
                    "output_type": "execute_result",
                    "metadata": {},
                    "execution_count": 9,
                    "data": {
                        "application/vnd.dataresource+json": {
                            "schema": {
                                "fields": [
                                    {
                                        "name": "ID"
                                    },
                                    {
                                        "name": "Game name"
                                    },
                                    {
                                        "name": "AREA"
                                    },
                                    {
                                        "name": "PRICE"
                                    },
                                    {
                                        "name": "FLAG01"
                                    },
                                    {
                                        "name": "Operator"
                                    }
                                ]
                            },
                            "data": [
                                {
                                    "0": "1",
                                    "1": "GTA1",
                                    "2": "JAPAN",
                                    "3": "20.00",
                                    "4": "1",
                                    "5": "Sam"
                                },
                                {
                                    "0": "2",
                                    "1": "GTA2",
                                    "2": "JAPAN",
                                    "3": "60.00",
                                    "4": "1",
                                    "5": "Sam"
                                },
                                {
                                    "0": "3",
                                    "1": "GTA3",
                                    "2": "JAPAN",
                                    "3": "80.00",
                                    "4": "1",
                                    "5": "Sam"
                                },
                                {
                                    "0": "4",
                                    "1": "GTA4",
                                    "2": "JAPAN",
                                    "3": "160.00",
                                    "4": "1",
                                    "5": "Sam"
                                },
                                {
                                    "0": "5",
                                    "1": "GTA5",
                                    "2": "JAPAN",
                                    "3": "180.00",
                                    "4": "1",
                                    "5": "Sam"
                                }
                            ]
                        },
                        "text/html": "<table><tr><th>ID</th><th>Game name</th><th>AREA</th><th>PRICE</th><th>FLAG01</th><th>Operator</th></tr><tr><td>1</td><td>GTA1</td><td>JAPAN</td><td>20.00</td><td>1</td><td>Sam</td></tr><tr><td>2</td><td>GTA2</td><td>JAPAN</td><td>60.00</td><td>1</td><td>Sam</td></tr><tr><td>3</td><td>GTA3</td><td>JAPAN</td><td>80.00</td><td>1</td><td>Sam</td></tr><tr><td>4</td><td>GTA4</td><td>JAPAN</td><td>160.00</td><td>1</td><td>Sam</td></tr><tr><td>5</td><td>GTA5</td><td>JAPAN</td><td>180.00</td><td>1</td><td>Sam</td></tr></table>"
                    }
                },
                {
                    "output_type": "execute_result",
                    "metadata": {},
                    "execution_count": 9,
                    "data": {
                        "application/vnd.dataresource+json": {
                            "schema": {
                                "fields": [
                                    {
                                        "name": "ID"
                                    },
                                    {
                                        "name": "Game name"
                                    },
                                    {
                                        "name": "AREA"
                                    },
                                    {
                                        "name": "PRICE"
                                    },
                                    {
                                        "name": "FLAG01"
                                    },
                                    {
                                        "name": "Operator"
                                    },
                                    {
                                        "name": "HD"
                                    },
                                    {
                                        "name": "INSERT TIME"
                                    }
                                ]
                            },
                            "data": [
                                {
                                    "0": "1",
                                    "1": "GTA1",
                                    "2": "JAPAN",
                                    "3": "20.00",
                                    "4": "1",
                                    "5": "Sam",
                                    "6": "641252F2B103F64EB2A49E09D549139E",
                                    "7": "2019-11-18 17:10:31.383"
                                },
                                {
                                    "0": "2",
                                    "1": "GTA2",
                                    "2": "JAPAN",
                                    "3": "60.00",
                                    "4": "1",
                                    "5": "Sam",
                                    "6": "05FF0DC637E681D853261CF5A231FE35",
                                    "7": "2019-11-18 17:10:31.383"
                                },
                                {
                                    "0": "3",
                                    "1": "GTA3",
                                    "2": "JAPAN",
                                    "3": "80.00",
                                    "4": "1",
                                    "5": "Sam",
                                    "6": "47B96AF013DBC2D6FE2CD9F24CF64C4F",
                                    "7": "2019-11-18 17:10:31.383"
                                },
                                {
                                    "0": "4",
                                    "1": "GTA4",
                                    "2": "JAPAN",
                                    "3": "160.00",
                                    "4": "1",
                                    "5": "Sam",
                                    "6": "3C569CDAEA51F7A8886DFB93C2EC4341",
                                    "7": "2019-11-18 17:10:31.383"
                                },
                                {
                                    "0": "5",
                                    "1": "GTA5",
                                    "2": "JAPAN",
                                    "3": "180.00",
                                    "4": "1",
                                    "5": "Sam",
                                    "6": "3311FEA2EBFB765CAAFBDDE22317D93A",
                                    "7": "2019-11-18 17:10:31.383"
                                }
                            ]
                        },
                        "text/html": "<table><tr><th>ID</th><th>Game name</th><th>AREA</th><th>PRICE</th><th>FLAG01</th><th>Operator</th><th>HD</th><th>INSERT TIME</th></tr><tr><td>1</td><td>GTA1</td><td>JAPAN</td><td>20.00</td><td>1</td><td>Sam</td><td>641252F2B103F64EB2A49E09D549139E</td><td>2019-11-18 17:10:31.383</td></tr><tr><td>2</td><td>GTA2</td><td>JAPAN</td><td>60.00</td><td>1</td><td>Sam</td><td>05FF0DC637E681D853261CF5A231FE35</td><td>2019-11-18 17:10:31.383</td></tr><tr><td>3</td><td>GTA3</td><td>JAPAN</td><td>80.00</td><td>1</td><td>Sam</td><td>47B96AF013DBC2D6FE2CD9F24CF64C4F</td><td>2019-11-18 17:10:31.383</td></tr><tr><td>4</td><td>GTA4</td><td>JAPAN</td><td>160.00</td><td>1</td><td>Sam</td><td>3C569CDAEA51F7A8886DFB93C2EC4341</td><td>2019-11-18 17:10:31.383</td></tr><tr><td>5</td><td>GTA5</td><td>JAPAN</td><td>180.00</td><td>1</td><td>Sam</td><td>3311FEA2EBFB765CAAFBDDE22317D93A</td><td>2019-11-18 17:10:31.383</td></tr></table>"
                    }
                },
                {
                    "output_type": "execute_result",
                    "metadata": {},
                    "execution_count": 9,
                    "data": {
                        "application/vnd.dataresource+json": {
                            "schema": {
                                "fields": [
                                    {
                                        "name": "ID"
                                    },
                                    {
                                        "name": "Game name"
                                    },
                                    {
                                        "name": "AREA"
                                    },
                                    {
                                        "name": "PRICE"
                                    },
                                    {
                                        "name": "FLAG01"
                                    },
                                    {
                                        "name": "Operator"
                                    },
                                    {
                                        "name": "HD"
                                    },
                                    {
                                        "name": "INSERT TIME"
                                    },
                                    {
                                        "name": "VALID FROM"
                                    },
                                    {
                                        "name": "VALID TO"
                                    },
                                    {
                                        "name": "IS CURRENT"
                                    }
                                ]
                            },
                            "data": [
                                {
                                    "0": "1",
                                    "1": "GTA1",
                                    "2": "JAPAN",
                                    "3": "20.00",
                                    "4": "1",
                                    "5": "Sam",
                                    "6": "641252F2B103F64EB2A49E09D549139E",
                                    "7": "2019-11-18 17:05:53.237",
                                    "8": "2019-11-18 17:05:53.237",
                                    "9": "2199-12-31 00:00:00.000",
                                    "10": "1"
                                },
                                {
                                    "0": "2",
                                    "1": "GTA2",
                                    "2": "JAPAN",
                                    "3": "60.00",
                                    "4": "1",
                                    "5": "Sam",
                                    "6": "05FF0DC637E681D853261CF5A231FE35",
                                    "7": "2019-11-18 17:05:53.237",
                                    "8": "2019-11-18 17:05:53.237",
                                    "9": "2199-12-31 00:00:00.000",
                                    "10": "1"
                                },
                                {
                                    "0": "3",
                                    "1": "GTA3",
                                    "2": "KOREA",
                                    "3": "80.00",
                                    "4": "1",
                                    "5": "Sam",
                                    "6": "B1F848471204E9B0F84C0A08679A7CEB",
                                    "7": "2019-11-18 17:05:53.237",
                                    "8": "2019-11-18 17:05:53.237",
                                    "9": "2019-11-18 17:10:31.400",
                                    "10": "0"
                                },
                                {
                                    "0": "4",
                                    "1": "GTA4",
                                    "2": "JAPAN",
                                    "3": "160.00",
                                    "4": "1",
                                    "5": "Sam",
                                    "6": "3C569CDAEA51F7A8886DFB93C2EC4341",
                                    "7": "2019-11-18 17:05:53.237",
                                    "8": "2019-11-18 17:05:53.237",
                                    "9": "2199-12-31 00:00:00.000",
                                    "10": "1"
                                },
                                {
                                    "0": "5",
                                    "1": "GTA5",
                                    "2": "JAPAN",
                                    "3": "180.00",
                                    "4": "1",
                                    "5": "Sam",
                                    "6": "3311FEA2EBFB765CAAFBDDE22317D93A",
                                    "7": "2019-11-18 17:05:53.237",
                                    "8": "2019-11-18 17:05:53.237",
                                    "9": "2199-12-31 00:00:00.000",
                                    "10": "1"
                                },
                                {
                                    "0": "3",
                                    "1": "GTA3",
                                    "2": "JAPAN",
                                    "3": "80.00",
                                    "4": "1",
                                    "5": "Sam",
                                    "6": "47B96AF013DBC2D6FE2CD9F24CF64C4F",
                                    "7": "2019-11-18 17:10:31.383",
                                    "8": "2019-11-18 17:10:31.400",
                                    "9": "2199-12-31 00:00:00.000",
                                    "10": "1"
                                }
                            ]
                        },
                        "text/html": "<table><tr><th>ID</th><th>Game name</th><th>AREA</th><th>PRICE</th><th>FLAG01</th><th>Operator</th><th>HD</th><th>INSERT TIME</th><th>VALID FROM</th><th>VALID TO</th><th>IS CURRENT</th></tr><tr><td>1</td><td>GTA1</td><td>JAPAN</td><td>20.00</td><td>1</td><td>Sam</td><td>641252F2B103F64EB2A49E09D549139E</td><td>2019-11-18 17:05:53.237</td><td>2019-11-18 17:05:53.237</td><td>2199-12-31 00:00:00.000</td><td>1</td></tr><tr><td>2</td><td>GTA2</td><td>JAPAN</td><td>60.00</td><td>1</td><td>Sam</td><td>05FF0DC637E681D853261CF5A231FE35</td><td>2019-11-18 17:05:53.237</td><td>2019-11-18 17:05:53.237</td><td>2199-12-31 00:00:00.000</td><td>1</td></tr><tr><td>3</td><td>GTA3</td><td>KOREA</td><td>80.00</td><td>1</td><td>Sam</td><td>B1F848471204E9B0F84C0A08679A7CEB</td><td>2019-11-18 17:05:53.237</td><td>2019-11-18 17:05:53.237</td><td>2019-11-18 17:10:31.400</td><td>0</td></tr><tr><td>4</td><td>GTA4</td><td>JAPAN</td><td>160.00</td><td>1</td><td>Sam</td><td>3C569CDAEA51F7A8886DFB93C2EC4341</td><td>2019-11-18 17:05:53.237</td><td>2019-11-18 17:05:53.237</td><td>2199-12-31 00:00:00.000</td><td>1</td></tr><tr><td>5</td><td>GTA5</td><td>JAPAN</td><td>180.00</td><td>1</td><td>Sam</td><td>3311FEA2EBFB765CAAFBDDE22317D93A</td><td>2019-11-18 17:05:53.237</td><td>2019-11-18 17:05:53.237</td><td>2199-12-31 00:00:00.000</td><td>1</td></tr><tr><td>3</td><td>GTA3</td><td>JAPAN</td><td>80.00</td><td>1</td><td>Sam</td><td>47B96AF013DBC2D6FE2CD9F24CF64C4F</td><td>2019-11-18 17:10:31.383</td><td>2019-11-18 17:10:31.400</td><td>2199-12-31 00:00:00.000</td><td>1</td></tr></table>"
                    }
                }
            ],
            "execution_count": 9
        }
    ]
}