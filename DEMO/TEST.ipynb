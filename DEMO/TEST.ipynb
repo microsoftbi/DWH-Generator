{
    "metadata": {
        "kernelspec": {
            "name": "SQL",
            "display_name": "SQL",
            "language": "sql"
        },
        "language_info": {
            "name": "sql",
            "version": ""
        }
    },
    "nbformat_minor": 2,
    "nbformat": 4,
    "cells": [
        {
            "cell_type": "markdown",
            "source": [
                "Below DB and their tables need to be deployed:\r\n",
                "STAGE\r\n",
                "META\r\n",
                "GAMESTORE\r\n",
                "\r\n",
                "After database and tables deployed, first load some data into OLTP tables"
            ],
            "metadata": {
                "azdata_cell_guid": "4d0a07b6-8041-472a-959e-067f591e72ed"
            }
        },
        {
            "cell_type": "code",
            "source": [
                "--Clean OLTP data.\r\n",
                "TRUNCATE TABLE GAMESTORE.DBO.GAMELIST\r\n",
                "TRUNCATE TABLE GAMESTORE.DBO.CUSTOMER\r\n",
                "TRUNCATE TABLE GAMESTORE.DBO.ORDER\r\n",
                "\r\n",
                "--Insert some testing data.\r\n",
                "INSERT INTO GAMESTORE.dbo.GAMELIST\r\n",
                "SELECT 1,'GTA1','JAPAN',20,1,1,1,1,1,'Sam','',''\r\n",
                "UNION ALL\r\n",
                "SELECT 2,'GTA2','JAPAN',60,1,1,1,1,1,'Sam','',''\r\n",
                "UNION ALL\r\n",
                "SELECT 3,'GTA3','KOREA',80,1,1,1,1,1,'Sam','',''\r\n",
                "UNION ALL\r\n",
                "SELECT 4,'GTA4','JAPAN',160,1,1,1,1,1,'Sam','',''\r\n",
                "UNION ALL\r\n",
                "SELECT 5,'GTA5','JAPAN',180,1,1,1,1,1,'Sam','',''\r\n",
                "\r\n",
                "\r\n",
                "INSERT INTO GAMESTORE.DBO.CUSTOMER\r\n",
                "SELECT 1,'Wade','1980-01-01', 1, 'China'\r\n",
                "UNION ALL\r\n",
                "SELECT 2,'James', '1981-01-01', 1, 'USA'\r\n",
                "UNION ALL\r\n",
                "SELECT 3, 'Wege', '1985-01-01', 1, 'Germany'\r\n",
                "\r\n",
                "\r\n",
                "INSERT INTO GAMESTORE.DBO.[ORDER]\r\n",
                "SELECT 1, '2010-01-01', 1, 2\r\n",
                "UNION ALL\r\n",
                "SELECT 2, '2010-02-01', 1, 3\r\n",
                "UNION ALL\r\n",
                "SELECT 3, '2010-01-01', 2, 1\r\n",
                "UNION ALL\r\n",
                "SELECT 4, '2010-01-02', 3, 2\r\n",
                "UNION ALL\r\n",
                "SELECT 5, '2010-02-03', 4, 3\r\n",
                "UNION ALL\r\n",
                "SELECT 6, '2010-01-01', 5, 1"
            ],
            "metadata": {
                "azdata_cell_guid": "79e8b992-d057-4274-972d-19d797fae2e1"
            },
            "outputs": [],
            "execution_count": 0
        },
        {
            "cell_type": "markdown",
            "source": [
                "Then load META data."
            ],
            "metadata": {
                "azdata_cell_guid": "ff93d64b-0eba-40f5-8e71-f0d7434b4677"
            }
        },
        {
            "cell_type": "code",
            "source": [
                "TRUNCATE TABLE META.DBO.ATTRIBUTE\r\n",
                "\r\n",
                "INSERT INTO META.DBO.ATTRIBUTE\r\n",
                "(\r\n",
                "    TABLE_CATALOG,\r\n",
                "    TABLE_NAME,\r\n",
                "    COLUMN_NAME,\r\n",
                "    DATA_TYPE,\r\n",
                "    CHARACTER_MAXIMUM_LENGTH,\r\n",
                "    NUMERIC_PRECISION,\r\n",
                "    NUMERIC_SCALE\r\n",
                ")\r\n",
                "SELECT\r\n",
                "    TABLE_CATALOG,\r\n",
                "    TABLE_NAME,\r\n",
                "    COLUMN_NAME,\r\n",
                "    DATA_TYPE,\r\n",
                "    CHARACTER_MAXIMUM_LENGTH,\r\n",
                "    NUMERIC_PRECISION,\r\n",
                "    NUMERIC_SCALE\r\n",
                "FROM GAMESTORE.INFORMATION_SCHEMA.COLUMNS"
            ],
            "metadata": {
                "azdata_cell_guid": "c971ac5a-abe3-4b39-ab2f-ec07e508b7ec"
            },
            "outputs": [],
            "execution_count": 0
        },
        {
            "cell_type": "markdown",
            "source": [
                "Then need to manual modify the meta data config, to tell system which is BK, PK and DI.\r\n",
                "So after changed META should be as below:"
            ],
            "metadata": {
                "azdata_cell_guid": "53f9ed76-d670-4d74-b8b8-cfea29a81718"
            }
        },
        {
            "cell_type": "code",
            "source": [
                "USE [META]\r\n",
                "GO\r\n",
                "SET IDENTITY_INSERT [dbo].[ATTRIBUTE] ON \r\n",
                "GO\r\n",
                "INSERT [dbo].[ATTRIBUTE] ([ID], [TABLE_CATALOG], [TABLE_NAME], [COLUMN_NAME], [DATA_TYPE], [CHARACTER_MAXIMUM_LENGTH], [NUMERIC_PRECISION], [NUMERIC_SCALE], [BK], [PK], [DI], [DVID]) VALUES (1, N'GAMESTORE', N'GAMELIST', N'ID', N'int', NULL, 10, 0, 1, 1, NULL, NULL)\r\n",
                "GO\r\n",
                "INSERT [dbo].[ATTRIBUTE] ([ID], [TABLE_CATALOG], [TABLE_NAME], [COLUMN_NAME], [DATA_TYPE], [CHARACTER_MAXIMUM_LENGTH], [NUMERIC_PRECISION], [NUMERIC_SCALE], [BK], [PK], [DI], [DVID]) VALUES (2, N'GAMESTORE', N'GAMELIST', N'Game name', N'nvarchar', 50, NULL, NULL, NULL, NULL, 1, NULL)\r\n",
                "GO\r\n",
                "INSERT [dbo].[ATTRIBUTE] ([ID], [TABLE_CATALOG], [TABLE_NAME], [COLUMN_NAME], [DATA_TYPE], [CHARACTER_MAXIMUM_LENGTH], [NUMERIC_PRECISION], [NUMERIC_SCALE], [BK], [PK], [DI], [DVID]) VALUES (3, N'GAMESTORE', N'GAMELIST', N'AREA', N'nvarchar', 20, NULL, NULL, NULL, NULL, 1, NULL)\r\n",
                "GO\r\n",
                "INSERT [dbo].[ATTRIBUTE] ([ID], [TABLE_CATALOG], [TABLE_NAME], [COLUMN_NAME], [DATA_TYPE], [CHARACTER_MAXIMUM_LENGTH], [NUMERIC_PRECISION], [NUMERIC_SCALE], [BK], [PK], [DI], [DVID]) VALUES (4, N'GAMESTORE', N'GAMELIST', N'PRICE', N'decimal', NULL, 10, 2, NULL, NULL, 1, NULL)\r\n",
                "GO\r\n",
                "INSERT [dbo].[ATTRIBUTE] ([ID], [TABLE_CATALOG], [TABLE_NAME], [COLUMN_NAME], [DATA_TYPE], [CHARACTER_MAXIMUM_LENGTH], [NUMERIC_PRECISION], [NUMERIC_SCALE], [BK], [PK], [DI], [DVID]) VALUES (5, N'GAMESTORE', N'GAMELIST', N'FLAG01', N'int', NULL, 10, 0, NULL, NULL, 1, NULL)\r\n",
                "GO\r\n",
                "INSERT [dbo].[ATTRIBUTE] ([ID], [TABLE_CATALOG], [TABLE_NAME], [COLUMN_NAME], [DATA_TYPE], [CHARACTER_MAXIMUM_LENGTH], [NUMERIC_PRECISION], [NUMERIC_SCALE], [BK], [PK], [DI], [DVID]) VALUES (6, N'GAMESTORE', N'GAMELIST', N'FLAG02', N'int', NULL, 10, 0, NULL, NULL, NULL, NULL)\r\n",
                "GO\r\n",
                "INSERT [dbo].[ATTRIBUTE] ([ID], [TABLE_CATALOG], [TABLE_NAME], [COLUMN_NAME], [DATA_TYPE], [CHARACTER_MAXIMUM_LENGTH], [NUMERIC_PRECISION], [NUMERIC_SCALE], [BK], [PK], [DI], [DVID]) VALUES (7, N'GAMESTORE', N'GAMELIST', N'FLAG03', N'int', NULL, 10, 0, NULL, NULL, NULL, NULL)\r\n",
                "GO\r\n",
                "INSERT [dbo].[ATTRIBUTE] ([ID], [TABLE_CATALOG], [TABLE_NAME], [COLUMN_NAME], [DATA_TYPE], [CHARACTER_MAXIMUM_LENGTH], [NUMERIC_PRECISION], [NUMERIC_SCALE], [BK], [PK], [DI], [DVID]) VALUES (8, N'GAMESTORE', N'GAMELIST', N'FLAG04', N'int', NULL, 10, 0, NULL, NULL, NULL, NULL)\r\n",
                "GO\r\n",
                "INSERT [dbo].[ATTRIBUTE] ([ID], [TABLE_CATALOG], [TABLE_NAME], [COLUMN_NAME], [DATA_TYPE], [CHARACTER_MAXIMUM_LENGTH], [NUMERIC_PRECISION], [NUMERIC_SCALE], [BK], [PK], [DI], [DVID]) VALUES (9, N'GAMESTORE', N'GAMELIST', N'FLAG05', N'int', NULL, 10, 0, NULL, NULL, NULL, NULL)\r\n",
                "GO\r\n",
                "INSERT [dbo].[ATTRIBUTE] ([ID], [TABLE_CATALOG], [TABLE_NAME], [COLUMN_NAME], [DATA_TYPE], [CHARACTER_MAXIMUM_LENGTH], [NUMERIC_PRECISION], [NUMERIC_SCALE], [BK], [PK], [DI], [DVID]) VALUES (10, N'GAMESTORE', N'GAMELIST', N'Operator', N'nvarchar', 20, NULL, NULL, NULL, NULL, 1, NULL)\r\n",
                "GO\r\n",
                "INSERT [dbo].[ATTRIBUTE] ([ID], [TABLE_CATALOG], [TABLE_NAME], [COLUMN_NAME], [DATA_TYPE], [CHARACTER_MAXIMUM_LENGTH], [NUMERIC_PRECISION], [NUMERIC_SCALE], [BK], [PK], [DI], [DVID]) VALUES (11, N'GAMESTORE', N'GAMELIST', N'AREA_HTR', N'nvarchar', 50, NULL, NULL, NULL, NULL, NULL, NULL)\r\n",
                "GO\r\n",
                "INSERT [dbo].[ATTRIBUTE] ([ID], [TABLE_CATALOG], [TABLE_NAME], [COLUMN_NAME], [DATA_TYPE], [CHARACTER_MAXIMUM_LENGTH], [NUMERIC_PRECISION], [NUMERIC_SCALE], [BK], [PK], [DI], [DVID]) VALUES (12, N'GAMESTORE', N'GAMELIST', N'PRICE_HTR', N'nvarchar', 50, NULL, NULL, NULL, NULL, NULL, NULL)\r\n",
                "GO\r\n",
                "INSERT [dbo].[ATTRIBUTE] ([ID], [TABLE_CATALOG], [TABLE_NAME], [COLUMN_NAME], [DATA_TYPE], [CHARACTER_MAXIMUM_LENGTH], [NUMERIC_PRECISION], [NUMERIC_SCALE], [BK], [PK], [DI], [DVID]) VALUES (13, N'GAMESTORE', N'CUSTOMER', N'CustomerID', N'int', NULL, 10, 0, 1, 1, NULL, NULL)\r\n",
                "GO\r\n",
                "INSERT [dbo].[ATTRIBUTE] ([ID], [TABLE_CATALOG], [TABLE_NAME], [COLUMN_NAME], [DATA_TYPE], [CHARACTER_MAXIMUM_LENGTH], [NUMERIC_PRECISION], [NUMERIC_SCALE], [BK], [PK], [DI], [DVID]) VALUES (14, N'GAMESTORE', N'CUSTOMER', N'CustomerName', N'nvarchar', 30, NULL, NULL, NULL, NULL, 1, NULL)\r\n",
                "GO\r\n",
                "INSERT [dbo].[ATTRIBUTE] ([ID], [TABLE_CATALOG], [TABLE_NAME], [COLUMN_NAME], [DATA_TYPE], [CHARACTER_MAXIMUM_LENGTH], [NUMERIC_PRECISION], [NUMERIC_SCALE], [BK], [PK], [DI], [DVID]) VALUES (15, N'GAMESTORE', N'CUSTOMER', N'Birth', N'date', NULL, NULL, NULL, NULL, NULL, 1, NULL)\r\n",
                "GO\r\n",
                "INSERT [dbo].[ATTRIBUTE] ([ID], [TABLE_CATALOG], [TABLE_NAME], [COLUMN_NAME], [DATA_TYPE], [CHARACTER_MAXIMUM_LENGTH], [NUMERIC_PRECISION], [NUMERIC_SCALE], [BK], [PK], [DI], [DVID]) VALUES (16, N'GAMESTORE', N'CUSTOMER', N'Gender', N'int', NULL, 10, 0, NULL, NULL, 1, NULL)\r\n",
                "GO\r\n",
                "INSERT [dbo].[ATTRIBUTE] ([ID], [TABLE_CATALOG], [TABLE_NAME], [COLUMN_NAME], [DATA_TYPE], [CHARACTER_MAXIMUM_LENGTH], [NUMERIC_PRECISION], [NUMERIC_SCALE], [BK], [PK], [DI], [DVID]) VALUES (17, N'GAMESTORE', N'CUSTOMER', N'Address', N'nvarchar', 50, NULL, NULL, NULL, NULL, 1, NULL)\r\n",
                "GO\r\n",
                "INSERT [dbo].[ATTRIBUTE] ([ID], [TABLE_CATALOG], [TABLE_NAME], [COLUMN_NAME], [DATA_TYPE], [CHARACTER_MAXIMUM_LENGTH], [NUMERIC_PRECISION], [NUMERIC_SCALE], [BK], [PK], [DI], [DVID]) VALUES (18, N'GAMESTORE', N'ORDER', N'ORDERID', N'int', NULL, 10, 0, 1, 1, NULL, NULL)\r\n",
                "GO\r\n",
                "INSERT [dbo].[ATTRIBUTE] ([ID], [TABLE_CATALOG], [TABLE_NAME], [COLUMN_NAME], [DATA_TYPE], [CHARACTER_MAXIMUM_LENGTH], [NUMERIC_PRECISION], [NUMERIC_SCALE], [BK], [PK], [DI], [DVID]) VALUES (19, N'GAMESTORE', N'ORDER', N'ORDERDATE', N'date', NULL, NULL, NULL, NULL, NULL, 1, NULL)\r\n",
                "GO\r\n",
                "INSERT [dbo].[ATTRIBUTE] ([ID], [TABLE_CATALOG], [TABLE_NAME], [COLUMN_NAME], [DATA_TYPE], [CHARACTER_MAXIMUM_LENGTH], [NUMERIC_PRECISION], [NUMERIC_SCALE], [BK], [PK], [DI], [DVID]) VALUES (20, N'GAMESTORE', N'ORDER', N'GAMEID', N'int', NULL, 10, 0, NULL, NULL, 1, NULL)\r\n",
                "GO\r\n",
                "INSERT [dbo].[ATTRIBUTE] ([ID], [TABLE_CATALOG], [TABLE_NAME], [COLUMN_NAME], [DATA_TYPE], [CHARACTER_MAXIMUM_LENGTH], [NUMERIC_PRECISION], [NUMERIC_SCALE], [BK], [PK], [DI], [DVID]) VALUES (21, N'GAMESTORE', N'ORDER', N'CUSTOMERID', N'int', NULL, 10, 0, NULL, NULL, 1, NULL)\r\n",
                "GO\r\n",
                "SET IDENTITY_INSERT [dbo].[ATTRIBUTE] OFF\r\n",
                "GO\r\n",
                ""
            ],
            "metadata": {
                "azdata_cell_guid": "e02491f0-9879-4001-861c-ec299dea70ad"
            },
            "outputs": [],
            "execution_count": 0
        },
        {
            "cell_type": "markdown",
            "source": [
                "Then we can go to to generate for PSA scripts."
            ],
            "metadata": {
                "azdata_cell_guid": "f0de4948-f1a8-40f1-9b92-8d739d17ef55"
            }
        }
    ]
}