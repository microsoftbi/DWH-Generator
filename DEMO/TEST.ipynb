{
    "metadata": {
        "kernelspec": {
            "name": "SQL",
            "display_name": "SQL",
            "language": "sql"
        },
        "language_info": {
            "name": "sql",
            "version": ""
        }
    },
    "nbformat_minor": 2,
    "nbformat": 4,
    "cells": [
        {
            "cell_type": "markdown",
            "source": [
                "Load some data into OLTP tables"
            ],
            "metadata": {
                "azdata_cell_guid": "4d0a07b6-8041-472a-959e-067f591e72ed"
            }
        },
        {
            "cell_type": "code",
            "source": [
                "INSERT INTO GAMESTORE.dbo.GAMELIST\r\n",
                "SELECT 1,'GTA1','JAPAN',20,1,1,1,1,1,'Sam','',''\r\n",
                "UNION ALL\r\n",
                "SELECT 2,'GTA2','JAPAN',60,1,1,1,1,1,'Sam','',''\r\n",
                "UNION ALL\r\n",
                "SELECT 3,'GTA3','KOREA',80,1,1,1,1,1,'Sam','',''\r\n",
                "UNION ALL\r\n",
                "SELECT 4,'GTA4','JAPAN',160,1,1,1,1,1,'Sam','',''\r\n",
                "UNION ALL\r\n",
                "SELECT 5,'GTA5','JAPAN',180,1,1,1,1,1,'Sam','',''\r\n",
                "\r\n",
                "\r\n",
                "INSERT INTO GAMESTORE.DBO.CUSTOMER\r\n",
                "SELECT 1,'Wade','1980-01-01', 1, 'China'\r\n",
                "UNION ALL\r\n",
                "SELECT 2,'James', '1981-01-01', 1, 'USA'\r\n",
                "UNION ALL\r\n",
                "SELECT 3, 'Wege', '1985-01-01', 1, 'Germany'\r\n",
                "\r\n",
                "\r\n",
                "INSERT INTO GAMESTORE.DBO.[ORDER]\r\n",
                "SELECT 1, '2010-01-01', 1, 2\r\n",
                "UNION ALL\r\n",
                "SELECT 2, '2010-02-01', 1, 3\r\n",
                "UNION ALL\r\n",
                "SELECT 3, '2010-01-01', 2, 1\r\n",
                "UNION ALL\r\n",
                "SELECT 4, '2010-01-02', 3, 2\r\n",
                "UNION ALL\r\n",
                "SELECT 5, '2010-02-03', 4, 3\r\n",
                "UNION ALL\r\n",
                "SELECT 6, '2010-01-01', 5, 1"
            ],
            "metadata": {
                "azdata_cell_guid": "79e8b992-d057-4274-972d-19d797fae2e1"
            },
            "outputs": [],
            "execution_count": 0
        }
    ]
}